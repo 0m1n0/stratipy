{
 "cells": [
  {
   "cell_type": "markdown",
   "metadata": {},
   "source": [
    "# Reproducibility\n",
    "***\n",
    "You can follow this Jupyter Notebook in order to reproduce the figure 3 of our paper about reproducibility in bioinformatics ([Kim et al. BioRxiv 2017](http://www.biorxiv.org/content/early/2017/06/20/143503)).\n",
    "\n",
    "Our StratiPy project is based on NBS (Network Based Stratification) method ([Hofree et al. Nat. Meth. 2013](http://www.nature.com/nmeth/journal/v10/n11/full/nmeth.2651.html))."
   ]
  },
  {
   "cell_type": "markdown",
   "metadata": {},
   "source": [
    "# 1 - Parameters\n",
    "---\n",
    "There are several tuning parameters of NBS. In order to reproduce same result, you only use same values outlined in the original NBS study except two ajustable parameters.\n",
    "\n",
    "1. **Graph regulator factor (lambda)** is the most influential parameter in this case study. It was thought that this factor had to be a constant value of 1 until we found that its value was changing and converged to 1800. Here you run NBS with lambd = 1 and 1800 in order to compare them.\n",
    "2. **Permutation number of bootstrap** utilized in the original study is 1000. But we recommand to start with 100 permutations since this step is highly time consuming (optimization ongoing ). In this notebook, you will notice no significant difference between 100 and 1000 permutations of original results (MATLAB). However you can always lunch with 1000 permutations if you want.\n",
    "\n",
    "Details about each parameter are explained in docstring of [reproducibility.py](reproducibility.py)."
   ]
  },
  {
   "cell_type": "code",
   "execution_count": 1,
   "metadata": {
    "collapsed": true
   },
   "outputs": [],
   "source": [
    "# Defalut settings\n",
    "data_folder = '../data/' \n",
    "patient_data = 'TCGA_UCEC' # Uterine endometrial carcinoma (uterine cancer) with 248 patients' somatic mutation data\n",
    "ppi_data = 'STRING' # STRING PPI network database\n",
    "influence_weight = 'min' # Influence weight of propagation on the network\n",
    "simplification = True # Simplification after propagation\n",
    "compute = True\n",
    "overwrite = False\n",
    "alpha = 0.7 # Diffusion (propagation) factor\n",
    "tol = 10e-3 # Convergence threshold during diffusion\n",
    "ngh_max = 11 # Number of best influencers in PPI network\n",
    "keep_singletons = False\n",
    "min_mutation = 10\n",
    "max_mutation = 200000\n",
    "qn = 'mean' # Quantile normalization (QN) after diffusion is based on the mean of ranked values\n",
    "n_components = 3 # Desired number of subgroups (clusters)\n",
    "run_bootstrap = True\n",
    "run_consensus = True\n",
    "tol_nmf = 1e-3 # Convergence threshold of NMF and GNMF algorithm\n",
    "linkage_method = 'average' # Linkage method of hierarchical clustering"
   ]
  },
  {
   "cell_type": "markdown",
   "metadata": {},
   "source": [
    "## Code"
   ]
  },
  {
   "cell_type": "code",
   "execution_count": 3,
   "metadata": {},
   "outputs": [],
   "source": [
    "import sys\n",
    "import os\n",
    "import nbs_functions, confusion_matrices\n",
    "sys.path.append(os.path.dirname(os.path.abspath('.')))\n",
    "from stratipy import load_data, formatting_data, filtering_diffusion, clustering, hierarchical_clustering\n",
    "import scipy.sparse as sp\n",
    "from scipy.io import loadmat, savemat\n",
    "import numpy as np\n",
    "import time\n",
    "import datetime"
   ]
  },
  {
   "cell_type": "code",
   "execution_count": 8,
   "metadata": {
    "collapsed": true
   },
   "outputs": [],
   "source": [
    "def nbs_functions(data_folder, patient_data, ppi_data, influence_weight, simplification,\n",
    "                 compute, overwrite, alpha, tol, ngh_max, keep_singletons, min_mutation,\n",
    "                 max_mutation, qn, n_components, n_permutations, run_bootstrap, run_consensus,\n",
    "                 lambd, tol_nmf, linkage_method):\n",
    "    if (sys.version_info < (3, 2)):\n",
    "        raise \"Must be using Python ≥ 3.2\"\n",
    "\n",
    "    else:\n",
    "        result_folder = 'reproducibility_data/' + 'result_' + patient_data + '_' + ppi_data + '/'\n",
    "        print('\\n######################## Starting StratiPy ########################')\n",
    "        print(\"\\nGraph regulator factor (lambda) =\", lambd)\n",
    "        print(\"Permutation number of bootstrap =\", n_permutations)\n",
    "\n",
    "        print(\"\\n------------ load_data.py ------------ {}\"\n",
    "              .format(datetime.datetime.now().strftime(\"%Y-%m-%d %H:%M:%S\")))\n",
    "        (patient_id, mutation_profile, gene_id_patient,\n",
    "         gene_symbol_profile) = load_data.load_TCGA_UCEC_patient_data(\n",
    "             data_folder)\n",
    "\n",
    "        gene_id_ppi, network = load_data.load_PPI_String(data_folder, ppi_data)\n",
    "\n",
    "        print(\"\\n------------ formatting_data.py ------------ {}\"\n",
    "              .format(datetime.datetime.now().strftime(\"%Y-%m-%d %H:%M:%S\")))\n",
    "        (network, mutation_profile,\n",
    "         idx_ppi, idx_mut, idx_ppi_only, idx_mut_only) = (\n",
    "            formatting_data.classify_gene_index(\n",
    "                network, mutation_profile, gene_id_ppi, gene_id_patient))\n",
    "\n",
    "        (ppi_total, mut_total, ppi_filt, mut_filt) = (\n",
    "            formatting_data.all_genes_in_submatrices(\n",
    "                network, idx_ppi, idx_mut, idx_ppi_only, idx_mut_only,\n",
    "                mutation_profile))\n",
    "\n",
    "        print(\"\\n------------ filtering_diffusion.py ------------ {}\"\n",
    "              .format(datetime.datetime.now().strftime(\"%Y-%m-%d %H:%M:%S\")))\n",
    "        final_influence = (\n",
    "            filtering_diffusion.calcul_final_influence(\n",
    "                sp.eye(ppi_filt.shape[0], dtype=np.float32), ppi_filt,\n",
    "                result_folder, influence_weight, simplification,\n",
    "                compute, overwrite, alpha, tol))\n",
    "\n",
    "        ppi_final, mut_final = filtering_diffusion.filter_ppi_patients(\n",
    "            ppi_total, mut_total, ppi_filt, final_influence, ngh_max,\n",
    "            keep_singletons, min_mutation, max_mutation)\n",
    "\n",
    "        mut_type, mut_propag = filtering_diffusion.propagation_profile(\n",
    "            mut_final, ppi_filt, result_folder, alpha, tol, qn)\n",
    "\n",
    "        # ------------ clustering.py ------------\n",
    "        print(\"\\n------------ clustering.py ------------ {}\"\n",
    "              .format(datetime.datetime.now().strftime(\"%Y-%m-%d %H:%M:%S\")))\n",
    "        genes_clustering, patients_clustering = (clustering.bootstrap(\n",
    "            result_folder, mut_type, mut_propag, ppi_final,\n",
    "            influence_weight, simplification,\n",
    "            alpha, tol, keep_singletons, ngh_max, min_mutation, max_mutation,\n",
    "            n_components, n_permutations,\n",
    "            run_bootstrap, lambd, tol_nmf))\n",
    "\n",
    "        distance_genes, distance_patients = clustering.consensus_clustering(\n",
    "            result_folder, genes_clustering, patients_clustering,\n",
    "            influence_weight, simplification, mut_type,\n",
    "            alpha, tol, keep_singletons, ngh_max, min_mutation, max_mutation,\n",
    "            n_components, n_permutations, run_consensus, lambd, tol_nmf)\n",
    "\n",
    "        # ------------ hierarchical_clustering.py ------------\n",
    "        print(\"\\n------------ hierarchical_clustering.py ------------ {}\"\n",
    "              .format(datetime.datetime.now().strftime(\"%Y-%m-%d %H:%M:%S\")))\n",
    "        hierarchical_clustering.distance_patients_from_consensus_file(\n",
    "            result_folder, distance_patients, ppi_data, mut_type,\n",
    "            influence_weight, simplification, alpha, tol,  keep_singletons,\n",
    "            ngh_max, min_mutation, max_mutation, n_components, n_permutations,\n",
    "            lambd, tol_nmf, linkage_method)"
   ]
  },
  {
   "cell_type": "markdown",
   "metadata": {
    "collapsed": true
   },
   "source": [
    "## Let's launch!"
   ]
  },
  {
   "cell_type": "markdown",
   "metadata": {
    "collapsed": true
   },
   "source": [
    "### With Graph regulator factor (lambda) = 1"
   ]
  },
  {
   "cell_type": "code",
   "execution_count": 5,
   "metadata": {
    "collapsed": true
   },
   "outputs": [],
   "source": [
    "lambd = 1\n",
    "n_permutations = 100"
   ]
  },
  {
   "cell_type": "markdown",
   "metadata": {},
   "source": [
    "### ! ! ! Clustering part will take few hours ! ! !"
   ]
  },
  {
   "cell_type": "code",
   "execution_count": 9,
   "metadata": {},
   "outputs": [
    {
     "name": "stdout",
     "output_type": "stream",
     "text": [
      "\n",
      "######################## Starting StratiPy ########################\n",
      "\n",
      "Graph regulator factor (lambda) = 1\n",
      "Permutation number of bootstrap = 100\n"
     ]
    },
    {
     "ename": "NameError",
     "evalue": "name 'datetime' is not defined",
     "output_type": "error",
     "traceback": [
      "\u001b[0;31m----------------------------\u001b[0m",
      "\u001b[0;31mNameError\u001b[0mTraceback (most recent call last)",
      "\u001b[0;32m<ipython-input-9-d03b7282f007>\u001b[0m in \u001b[0;36m<module>\u001b[0;34m()\u001b[0m\n\u001b[1;32m      3\u001b[0m                                \u001b[0mkeep_singletons\u001b[0m\u001b[0;34m,\u001b[0m \u001b[0mmin_mutation\u001b[0m\u001b[0;34m,\u001b[0m \u001b[0mmax_mutation\u001b[0m\u001b[0;34m,\u001b[0m \u001b[0mqn\u001b[0m\u001b[0;34m,\u001b[0m \u001b[0mn_components\u001b[0m\u001b[0;34m,\u001b[0m\u001b[0;34m\u001b[0m\u001b[0m\n\u001b[1;32m      4\u001b[0m                                \u001b[0mn_permutations\u001b[0m\u001b[0;34m,\u001b[0m \u001b[0mrun_bootstrap\u001b[0m\u001b[0;34m,\u001b[0m \u001b[0mrun_consensus\u001b[0m\u001b[0;34m,\u001b[0m \u001b[0mlambd\u001b[0m\u001b[0;34m,\u001b[0m \u001b[0mtol_nmf\u001b[0m\u001b[0;34m,\u001b[0m\u001b[0;34m\u001b[0m\u001b[0m\n\u001b[0;32m----> 5\u001b[0;31m                                linkage_method)\n\u001b[0m",
      "\u001b[0;32m/Users/Min/github/stratipy/reproducibility/nbs_functions.py\u001b[0m in \u001b[0;36mall_functions\u001b[0;34m(data_folder, patient_data, ppi_data, influence_weight, simplification, compute, overwrite, alpha, tol, ngh_max, keep_singletons, min_mutation, max_mutation, qn, n_components, n_permutations, run_bootstrap, run_consensus, lambd, tol_nmf, linkage_method)\u001b[0m\n\u001b[1;32m     28\u001b[0m         \u001b[0;32melse\u001b[0m\u001b[0;34m:\u001b[0m\u001b[0;34m\u001b[0m\u001b[0m\n\u001b[1;32m     29\u001b[0m             \u001b[0mresult_folder\u001b[0m \u001b[0;34m=\u001b[0m \u001b[0;34m'reproducibility_data/'\u001b[0m \u001b[0;34m+\u001b[0m \u001b[0;34m'result_'\u001b[0m \u001b[0;34m+\u001b[0m \u001b[0mpatient_data\u001b[0m \u001b[0;34m+\u001b[0m \u001b[0;34m'_'\u001b[0m \u001b[0;34m+\u001b[0m \u001b[0mppi_data\u001b[0m \u001b[0;34m+\u001b[0m \u001b[0;34m'/'\u001b[0m\u001b[0;34m\u001b[0m\u001b[0m\n\u001b[0;32m---> 30\u001b[0;31m             \u001b[0mprint\u001b[0m\u001b[0;34m(\u001b[0m\u001b[0;34m'\\n######################## Starting StratiPy ########################'\u001b[0m\u001b[0;34m)\u001b[0m\u001b[0;34m\u001b[0m\u001b[0m\n\u001b[0m\u001b[1;32m     31\u001b[0m             \u001b[0mprint\u001b[0m\u001b[0;34m(\u001b[0m\u001b[0;34m\"\\nGraph regulator factor (lambda) =\"\u001b[0m\u001b[0;34m,\u001b[0m \u001b[0mlambd\u001b[0m\u001b[0;34m)\u001b[0m\u001b[0;34m\u001b[0m\u001b[0m\n\u001b[1;32m     32\u001b[0m             \u001b[0mprint\u001b[0m\u001b[0;34m(\u001b[0m\u001b[0;34m\"Permutation number of bootstrap =\"\u001b[0m\u001b[0;34m,\u001b[0m \u001b[0mn_permutations\u001b[0m\u001b[0;34m)\u001b[0m\u001b[0;34m\u001b[0m\u001b[0m\n",
      "\u001b[0;31mNameError\u001b[0m: name 'datetime' is not defined"
     ]
    }
   ],
   "source": [
    "lambd1_perm100 = nbs_functions.all_functions(data_folder, patient_data, ppi_data, influence_weight,\n",
    "                               simplification, compute, overwrite, alpha, tol, ngh_max,\n",
    "                               keep_singletons, min_mutation, max_mutation, qn, n_components,\n",
    "                               n_permutations, run_bootstrap, run_consensus, lambd, tol_nmf,\n",
    "                               linkage_method)"
   ]
  },
  {
   "cell_type": "markdown",
   "metadata": {
    "collapsed": true
   },
   "source": [
    "### With Graph regulator factor (lambda) = 1800"
   ]
  },
  {
   "cell_type": "code",
   "execution_count": 15,
   "metadata": {
    "collapsed": true
   },
   "outputs": [],
   "source": [
    "lambd = 1800\n",
    "n_permutations = 100"
   ]
  },
  {
   "cell_type": "markdown",
   "metadata": {},
   "source": [
    "### ! ! ! Clustering part will take few hours ! ! !  (yes, once again) "
   ]
  },
  {
   "cell_type": "code",
   "execution_count": 19,
   "metadata": {},
   "outputs": [
    {
     "name": "stdout",
     "output_type": "stream",
     "text": [
      "The autoreload extension is already loaded. To reload it, use:\n",
      "  %reload_ext autoreload\n"
     ]
    }
   ],
   "source": [
    "%load_ext autoreload\n",
    "%autoreload 2"
   ]
  },
  {
   "cell_type": "code",
   "execution_count": 20,
   "metadata": {},
   "outputs": [
    {
     "name": "stdout",
     "output_type": "stream",
     "text": [
      "\n",
      "######################## Starting StratiPy ########################\n",
      "\n",
      "Graph regulator factor (lambda) = 1\n",
      "Permutation number of bootstrap = 100\n",
      "\n",
      "------------ load_data.py ------------ 2017-09-22 18:05:34\n",
      " ==== TCGA patients' ID  \n",
      " ==== TCGA mutation profiles  \n",
      " ==== TCGA Entrez gene ID and gene symbols in mutation profiles  \n",
      " ==== load_PPI_String and gene_id_ppi\n",
      " ==== load_PPI \n",
      "\n",
      "------------ formatting_data.py ------------ 2017-09-22 18:05:35\n",
      " ==== classify_gene_index  \n",
      " ==== all_genes_in_submatrices \n",
      " ==== ABC  \n",
      " ==== mut_total  \n",
      " ==== filter only genes in PPI  \n",
      " ==== all_genes_in_submatrices finish  \n",
      "\n",
      "------------ filtering_diffusion.py ------------ 2017-09-22 18:05:39\n",
      " **** Same parameters file of FINAL INFLUENCE already exists\n",
      " Removing 0 patients with less than 10 or more than 200000 mutations\n",
      " **** Same parameters file of FINAL INFLUENCE on Mutation Profile already exists\n",
      "\n",
      "------------ clustering.py ------------ 2017-09-22 18:05:46\n",
      " **** Same parameters file of bootstrap already exists\n",
      " **** Same parameters file of consensus clustering already exists\n",
      "\n",
      "------------ hierarchical_clustering.py ------------ 2017-09-22 18:05:53\n",
      " **** Same parameters file of hierarchical clustering already exists\n"
     ]
    }
   ],
   "source": [
    "lambd1800_perm100 = nbs_functions.all_functions(data_folder, patient_data, ppi_data, influence_weight,\n",
    "                                  simplification, compute, overwrite, alpha, tol, ngh_max,\n",
    "                                  keep_singletons, min_mutation, max_mutation, qn,\n",
    "                                  n_components, n_permutations, run_bootstrap, run_consensus,\n",
    "                                  lambd, tol_nmf, linkage_method)"
   ]
  },
  {
   "cell_type": "code",
   "execution_count": null,
   "metadata": {
    "collapsed": true
   },
   "outputs": [],
   "source": []
  },
  {
   "cell_type": "code",
   "execution_count": null,
   "metadata": {
    "collapsed": true
   },
   "outputs": [],
   "source": []
  },
  {
   "cell_type": "code",
   "execution_count": null,
   "metadata": {
    "collapsed": true
   },
   "outputs": [],
   "source": []
  },
  {
   "cell_type": "code",
   "execution_count": null,
   "metadata": {
    "collapsed": true
   },
   "outputs": [],
   "source": []
  },
  {
   "cell_type": "code",
   "execution_count": null,
   "metadata": {
    "collapsed": true
   },
   "outputs": [],
   "source": []
  },
  {
   "cell_type": "code",
   "execution_count": null,
   "metadata": {
    "collapsed": true
   },
   "outputs": [],
   "source": []
  },
  {
   "cell_type": "markdown",
   "metadata": {},
   "source": [
    "### Load data"
   ]
  },
  {
   "cell_type": "code",
   "execution_count": null,
   "metadata": {
    "collapsed": true
   },
   "outputs": [],
   "source": [
    "# Hofree's result --- 100 and 1000 permutations of bootstrap\n",
    "hof_100_data = loadmat('100permutations/results_NBS_Hofree_100.mat')\n",
    "hof_1000_data = loadmat('1000permutations/results_NBS_Hofree_1000.mat')\n",
    "\n",
    "# StratiPy's result --- 100 and 1000 permutations of bootstrap\n",
    "stp_100_data = loadmat('100permutations/hierarchical_clustering_Patients_weight=min_simp=True_alpha=0.7_tol=0.001_singletons=False_ngh=11_minMut=10_maxMut=200000_comp=3_permut=100_lambd=1_tolNMF=0.001_method=average.mat')\n",
    "stp_1000_data = loadmat('1000permutations/hierarchical_clustering_Patients_weight=min_simp=True_alpha=0.7_tol=0.001_singletons=False_ngh=11_minMut=10_maxMut=200000_comp=3_permut=1000_lambd=1_tolNMF=0.001_method=average.mat')\n",
    "\n",
    "# StratiPy's result with lambda = 1800\n",
    "stp_100_data_lamb1800 = loadmat('100permutations/lamb1800/hierarchical_clustering_Patients_weight=min_simp=True_alpha=0.7_tol=0.001_singletons=False_ngh=11_minMut=10_maxMut=200000_comp=3_permut=100_lambd=1800_tolNMF=0.001_method=average.mat')"
   ]
  },
  {
   "cell_type": "markdown",
   "metadata": {},
   "source": [
    "data check"
   ]
  },
  {
   "cell_type": "code",
   "execution_count": null,
   "metadata": {
    "collapsed": true
   },
   "outputs": [],
   "source": [
    "hof_100_data"
   ]
  },
  {
   "cell_type": "code",
   "execution_count": null,
   "metadata": {
    "collapsed": true
   },
   "outputs": [],
   "source": [
    "stp_100_data"
   ]
  },
  {
   "cell_type": "code",
   "execution_count": null,
   "metadata": {
    "collapsed": true
   },
   "outputs": [],
   "source": [
    "for key, value in hof_100_data.items() :\n",
    "    print (key)"
   ]
  },
  {
   "cell_type": "code",
   "execution_count": null,
   "metadata": {
    "collapsed": true
   },
   "outputs": [],
   "source": [
    "hof_1000_data['propnmf_options']"
   ]
  },
  {
   "cell_type": "code",
   "execution_count": null,
   "metadata": {
    "collapsed": true
   },
   "outputs": [],
   "source": [
    "hof_100_data['NBS_cc_label'].shape"
   ]
  },
  {
   "cell_type": "code",
   "execution_count": null,
   "metadata": {
    "collapsed": true
   },
   "outputs": [],
   "source": [
    "stp_100_data['flat_cluster_number'].shape"
   ]
  },
  {
   "cell_type": "code",
   "execution_count": null,
   "metadata": {
    "collapsed": true
   },
   "outputs": [],
   "source": [
    "hof_1000_data['NBS_cc_label'].shape"
   ]
  },
  {
   "cell_type": "markdown",
   "metadata": {},
   "source": [
    "### Get number of subgroups for each patient \n",
    "there are 3 subroups"
   ]
  },
  {
   "cell_type": "code",
   "execution_count": null,
   "metadata": {
    "collapsed": true
   },
   "outputs": [],
   "source": [
    "# Hofree\n",
    "hof_100_3cluster = hof_100_data['NBS_cc_label'].squeeze().tolist()\n",
    "hof_1000_3cluster = hof_1000_data['NBS_cc_label'].squeeze().tolist()\n",
    "\n",
    "# StratiPy\n",
    "stp_100_3cluster = list(stp_100_data['flat_cluster_number'][0])\n",
    "stp_1000_3cluster = list(stp_1000_data['flat_cluster_number'][0])\n",
    "stp_100_lamb1800_3cluster = list(stp_100_data_lamb1800['flat_cluster_number'][0])"
   ]
  },
  {
   "cell_type": "code",
   "execution_count": null,
   "metadata": {
    "collapsed": true
   },
   "outputs": [],
   "source": [
    "def replace_list_element(l, before, after):\n",
    "    for i,e in enumerate(l):\n",
    "        if e==before:\n",
    "            l[i]=after\n",
    "    return l"
   ]
  },
  {
   "cell_type": "code",
   "execution_count": null,
   "metadata": {
    "collapsed": true
   },
   "outputs": [],
   "source": [
    "# clust(Hofree) 3(1) <-> clust(Stratipy) 1(3)\n",
    "stp_100_3cluster_1 = replace_list_element(stp_100_3cluster, 3, 0) # 3 -> 0\n",
    "stp_100_3cluster_2 = replace_list_element(stp_100_3cluster_1, 1, 3) # 1 -> 3\n",
    "stp_100_3cluster_3 = replace_list_element(stp_100_3cluster_2, 0, 1) # 0 -> 1"
   ]
  },
  {
   "cell_type": "markdown",
   "metadata": {},
   "source": [
    "### Confusion matrices"
   ]
  },
  {
   "cell_type": "code",
   "execution_count": null,
   "metadata": {
    "collapsed": true
   },
   "outputs": [],
   "source": [
    "from sklearn.metrics import confusion_matrix"
   ]
  },
  {
   "cell_type": "markdown",
   "metadata": {},
   "source": [
    "#### 100 vs 1000 permutations of Bootstrap"
   ]
  },
  {
   "cell_type": "code",
   "execution_count": null,
   "metadata": {
    "collapsed": true
   },
   "outputs": [],
   "source": [
    "# Hofree 100 & 1000\n",
    "confusion_matrix(hof_100_3cluster, hof_1000_3cluster)"
   ]
  },
  {
   "cell_type": "code",
   "execution_count": null,
   "metadata": {
    "collapsed": true
   },
   "outputs": [],
   "source": [
    "# 100 permutations\n",
    "confusion_matrix(stp_100_3cluster, stp_1000_3cluster)"
   ]
  },
  {
   "cell_type": "markdown",
   "metadata": {},
   "source": [
    "=> There are no significant differences between 100 and 1000 permutations of Bootstrap."
   ]
  },
  {
   "cell_type": "markdown",
   "metadata": {},
   "source": [
    "#### Hofree vs StratiPy"
   ]
  },
  {
   "cell_type": "code",
   "execution_count": null,
   "metadata": {
    "collapsed": true
   },
   "outputs": [],
   "source": [
    "# 100 permutations\n",
    "# StratiPy's lambd = 1\n",
    "confusion_matrix(hof_100_3cluster, stp_100_3cluster)"
   ]
  },
  {
   "cell_type": "code",
   "execution_count": null,
   "metadata": {
    "collapsed": true
   },
   "outputs": [],
   "source": [
    "# 1000 permutations\n",
    "# StratiPy's lambd = 1\n",
    "confusion_matrix(hof_1000_3cluster, stp_1000_3cluster)"
   ]
  },
  {
   "cell_type": "code",
   "execution_count": null,
   "metadata": {
    "collapsed": true
   },
   "outputs": [],
   "source": [
    "# 100 permutations\n",
    "# StratiPy's lambd = 1800\n",
    "confusion_matrix(hof_100_3cluster, stp_100_lamb1800_3cluster)"
   ]
  },
  {
   "cell_type": "markdown",
   "metadata": {},
   "source": [
    "### Plot"
   ]
  },
  {
   "cell_type": "code",
   "execution_count": null,
   "metadata": {
    "collapsed": true
   },
   "outputs": [],
   "source": [
    "%matplotlib inline\n",
    "import matplotlib.pyplot as plt"
   ]
  },
  {
   "cell_type": "code",
   "execution_count": null,
   "metadata": {
    "collapsed": true
   },
   "outputs": [],
   "source": [
    "conf_arr = confusion_matrix(hof_100_3cluster, stp_100_3cluster)\n",
    "conf_arr"
   ]
  },
  {
   "cell_type": "code",
   "execution_count": null,
   "metadata": {
    "collapsed": true
   },
   "outputs": [],
   "source": [
    "conf_arr = np.array([[54,  7,  0],\n",
    "                  [ 5,  99, 0],\n",
    "                  [ 0, 54, 29]])\n",
    "\n",
    "conf_arr = conf_arr.astype('float') / conf_arr.sum(axis=1)[:, np.newaxis]\n",
    "conf_arr = np.around(conf_arr, decimals=2)\n",
    "conf_arr"
   ]
  },
  {
   "cell_type": "code",
   "execution_count": null,
   "metadata": {
    "collapsed": true
   },
   "outputs": [],
   "source": [
    "norm_conf = []\n",
    "for i in conf_arr:\n",
    "    a = 0\n",
    "    tmp_arr = []\n",
    "    a = sum(i, 0)\n",
    "    for j in i:\n",
    "        tmp_arr.append(float(j)/float(a))\n",
    "    norm_conf.append(tmp_arr)\n",
    "\n",
    "fig = plt.figure()\n",
    "plt.clf()\n",
    "ax = fig.add_subplot(111)\n",
    "ax.set_aspect(1)\n",
    "res = ax.imshow(np.array(norm_conf), cmap=plt.cm.viridis, interpolation='nearest') #plt.cm.viridis\n",
    "\n",
    "width, height = conf_arr.shape\n",
    "\n",
    "for x in range(width):\n",
    "    for y in range(height):\n",
    "        ax.annotate(str(conf_arr[x][y]), xy=(y, x), \n",
    "                    horizontalalignment='center',\n",
    "                    verticalalignment='center')\n",
    "\n",
    "levels = np.linspace(0, 1, 11, endpoint=True)\n",
    "cb = fig.colorbar(res, ticks=levels, norm=colors.NoNorm)\n",
    "cb.set_clim(vmin=0, vmax=0.98)\n",
    "alphabet = '123'\n",
    "plt.xticks(range(width), alphabet[:width])\n",
    "ax.xaxis.tick_top()\n",
    "ax.xaxis.set_label_position('top')\n",
    "plt.yticks(range(height), alphabet[:height])\n",
    "\n",
    "plt.xlabel('Subgroups')\n",
    "plt.title(\"Reported tuning parameter value \\n\\n\", fontsize=14)\n",
    "\n",
    "# plt.savefig('confusion_matrix_lambd1.pdf', bbox_inches='tight')\n",
    "# plt.savefig('confusion_matrix_lambd1.svg', bbox_inches='tight')\n",
    "\n",
    "plt.show()"
   ]
  },
  {
   "cell_type": "code",
   "execution_count": null,
   "metadata": {
    "collapsed": true
   },
   "outputs": [],
   "source": [
    "conf_arr = confusion_matrix(hof_100_3cluster, stp_100_lamb1800_3cluster)\n",
    "conf_arr = conf_arr.astype('float') / conf_arr.sum(axis=1)[:, np.newaxis]\n",
    "conf_arr = np.around(conf_arr, decimals=2)\n",
    "conf_arr"
   ]
  },
  {
   "cell_type": "code",
   "execution_count": null,
   "metadata": {
    "collapsed": true
   },
   "outputs": [],
   "source": [
    "norm_conf = []\n",
    "for i in conf_arr:\n",
    "    a = 0\n",
    "    tmp_arr = []\n",
    "    a = sum(i, 0)\n",
    "    for j in i:\n",
    "        tmp_arr.append(float(j)/float(a))\n",
    "    norm_conf.append(tmp_arr)\n",
    "\n",
    "fig = plt.figure()\n",
    "plt.clf()\n",
    "ax = fig.add_subplot(111)\n",
    "ax.set_aspect(1)\n",
    "res = ax.imshow(np.array(norm_conf), cmap=plt.cm.viridis, interpolation='nearest') #plt.cm.viridis\n",
    "\n",
    "width, height = conf_arr.shape\n",
    "\n",
    "for x in range(width):\n",
    "    for y in range(height):\n",
    "        ax.annotate(str(conf_arr[x][y]), xy=(y, x), \n",
    "                    horizontalalignment='center',\n",
    "                    verticalalignment='center')\n",
    "\n",
    "cb = fig.colorbar(res, ticks=levels)\n",
    "# cb.set_clim(vmin=0, vmax=0.98)\n",
    "\n",
    "alphabet = '123'\n",
    "plt.xticks(range(width), alphabet[:width])\n",
    "ax.xaxis.tick_top()\n",
    "ax.xaxis.set_label_position('top')\n",
    "plt.yticks(range(height), alphabet[:height])\n",
    "\n",
    "plt.xlabel('Subgroups')\n",
    "plt.title(\"Tuning parameter value in code \\n\\n\", fontsize=14)\n",
    "\n",
    "# plt.savefig('confusion_matrix_lambd1800.pdf', bbox_inches='tight')\n",
    "# plt.savefig('confusion_matrix_lambd1800.svg', bbox_inches='tight')\n",
    "\n",
    "plt.show()"
   ]
  },
  {
   "cell_type": "code",
   "execution_count": null,
   "metadata": {
    "collapsed": true
   },
   "outputs": [],
   "source": []
  }
 ],
 "metadata": {
  "kernelspec": {
   "display_name": "Python 3",
   "language": "python",
   "name": "python3"
  },
  "language_info": {
   "codemirror_mode": {
    "name": "ipython",
    "version": 3
   },
   "file_extension": ".py",
   "mimetype": "text/x-python",
   "name": "python",
   "nbconvert_exporter": "python",
   "pygments_lexer": "ipython3",
   "version": "3.6.1"
  }
 },
 "nbformat": 4,
 "nbformat_minor": 2
}
