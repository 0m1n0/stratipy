{
 "cells": [
  {
   "cell_type": "markdown",
   "metadata": {},
   "source": [
    "# Reproducibility\n",
    "---\n",
    "You can follow this Jupyter Notebook in order to reproduce the figure 3 of our paper about reproducibility in bioinformatics ([Kim et al. BioRxiv 2017](http://www.biorxiv.org/content/early/2017/06/20/143503)).\n",
    "\n",
    "Our StratiPy project is based on NBS (Network Based Stratification) method ([Hofree et al. Nat. Meth. 2013](http://www.nature.com/nmeth/journal/v10/n11/full/nmeth.2651.html)).\n",
    "\n",
    "---\n",
    "\n",
    "# 1 - Before starting work\n",
    "\n",
    "## 1.1 - Virtual environment\n",
    "We recommend that you use this Python 3 project in a virtual environment.\n",
    "For anaconda users, you can activate a virtual environment with:\n",
    "```\n",
    "~$ conda create -n <your_environment_name> python=3.6 anaconda\n",
    "```\n",
    "\n",
    "Then you can activate your virtual environment with:\n",
    "```\n",
    "~$ source activate <your_environment_name>\n",
    "```\n",
    "\n",
    "When you want to deactivate your virtual environment:\n",
    "```\n",
    "~$ source deactivate\n",
    "```\n",
    "\n",
    "More details on [Conda's environments](https://conda.io/docs/user-guide/tasks/manage-environments.html).\n",
    "\n",
    "---\n",
    "\n",
    "## 1.2 - Data\n",
    "\n",
    "- General input data was downloaded from [original author's NBS website](http://chianti.ucsd.edu/~mhofree/NBS/). In the original study, authors worked on:\n",
    "    - 4 types of cancer data provided by [TCGA](https://cancergenome.nih.gov/). Here we only work on uterine endometrial carcinoma (uterine cancer) with 248 patients' somatic mutation data.\n",
    "    - 3 types of Protein-Protein Interaction (PPI) networks. Here we only utilize [STRING database](https://string-db.org/).\n",
    "- [data](../data/) folder includes input and output data such as mutation profiles, PPI networks, similarity matrices, etc...\n",
    "- In this case study, the code will take general input data from [data](../data/) folder but output will be placed in the specific [reproducibility data](reproducibility_data/). Original MATLAB results (100 and 1000 permutations of bootstrap) are also in reproducibility data folder.\n",
    "- Result's filename will be constituted by parameters' value. If there is same filename, the code will not create new file. If you want to create a new one, you have to remove previous file from the specific [reproducibility data](reproducibility_data/).\n",
    "\n",
    "---\n",
    "\n",
    "## 1.3 - Parameters\n",
    "There are several tuning parameters of NBS. In order to reproduce same result, you only use same values outlined in the original NBS study except two ajustable parameters.\n",
    "\n",
    "1. **Graph regulator factor (lambda)** is the most influential parameter in this case study. It was thought that this factor had to be a constant value of 1 until we found that its value was changing and converged to 1800. Here you run StratiPy with lambd = 1 and 1800 in order to compare them.\n",
    "2. **Permutation number of bootstrap** utilized in the original study is 1000. But we recommand to start with 100 permutations since this step is highly time consuming (optimization ongoing ).\n",
    "\n",
    "Details about each parameter are explained in docstring of [reproducibility.py](reproducibility.py)."
   ]
  },
  {
   "cell_type": "code",
   "execution_count": null,
   "metadata": {
    "collapsed": true
   },
   "outputs": [],
   "source": [
    "# Defalut settings\n",
    "data_folder = '../data/' \n",
    "patient_data = 'TCGA_UCEC' # Uterine endometrial carcinoma (uterine cancer) with 248 patients' somatic mutation data\n",
    "ppi_data = 'STRING' # STRING PPI network database\n",
    "influence_weight = 'min' # Influence weight of propagation on the network\n",
    "simplification = True # Simplification after propagation\n",
    "compute = True\n",
    "overwrite = False\n",
    "alpha = 0.7 # Diffusion (propagation) factor\n",
    "tol = 10e-3 # Convergence threshold during diffusion\n",
    "ngh_max = 11 # Number of best influencers in PPI network\n",
    "keep_singletons = False\n",
    "min_mutation = 10\n",
    "max_mutation = 200000\n",
    "qn = 'mean' # Quantile normalization (QN) after diffusion is based on the mean of ranked values\n",
    "n_components = 3 # Desired number of subgroups (clusters)\n",
    "run_bootstrap = True\n",
    "run_consensus = True\n",
    "tol_nmf = 1e-3 # Convergence threshold of NMF and GNMF algorithm\n",
    "linkage_method = 'average' # Linkage method of hierarchical clustering"
   ]
  },
  {
   "cell_type": "markdown",
   "metadata": {
    "collapsed": true
   },
   "source": [
    "# 2 - Let's launch!\n",
    "Import code"
   ]
  },
  {
   "cell_type": "code",
   "execution_count": 1,
   "metadata": {
    "collapsed": true
   },
   "outputs": [],
   "source": [
    "import sys\n",
    "import os\n",
    "sys.path.append(os.path.dirname(os.path.abspath('.')))\n",
    "from stratipy import load_data, formatting_data, filtering_diffusion, clustering, hierarchical_clustering\n",
    "from nbs_functions import all_functions\n",
    "import scipy.sparse as sp\n",
    "from scipy.io import loadmat, savemat\n",
    "import numpy as np\n",
    "import time\n",
    "import datetime\n",
    "from IPython.display import Image, display"
   ]
  },
  {
   "cell_type": "code",
   "execution_count": 3,
   "metadata": {},
   "outputs": [
    {
     "ename": "ValueError",
     "evalue": "Cannot embed the 'pdf' image format",
     "output_type": "error",
     "traceback": [
      "\u001b[0;31m-----------------------\u001b[0m",
      "\u001b[0;31mValueError\u001b[0mTraceback (most recent call last)",
      "\u001b[0;32m<ipython-input-3-408ebd4a270d>\u001b[0m in \u001b[0;36m<module>\u001b[0;34m()\u001b[0m\n\u001b[0;32m----> 1\u001b[0;31m \u001b[0mdisplay\u001b[0m\u001b[0;34m(\u001b[0m\u001b[0mImage\u001b[0m\u001b[0;34m(\u001b[0m\u001b[0mfilename\u001b[0m\u001b[0;34m=\u001b[0m\u001b[0;34m'reproducibility_data/confusion_matrix_lambda=1.pdf'\u001b[0m\u001b[0;34m,\u001b[0m \u001b[0membed\u001b[0m\u001b[0;34m=\u001b[0m\u001b[0;32mTrue\u001b[0m\u001b[0;34m)\u001b[0m\u001b[0;34m)\u001b[0m\u001b[0;34m\u001b[0m\u001b[0m\n\u001b[0m",
      "\u001b[0;32m/Users/Min/anaconda/envs/stratipy3/lib/python3.6/site-packages/IPython/core/display.py\u001b[0m in \u001b[0;36m__init__\u001b[0;34m(self, data, url, filename, format, embed, width, height, retina, unconfined, metadata)\u001b[0m\n\u001b[1;32m    750\u001b[0m \u001b[0;34m\u001b[0m\u001b[0m\n\u001b[1;32m    751\u001b[0m         \u001b[0;32mif\u001b[0m \u001b[0mself\u001b[0m\u001b[0;34m.\u001b[0m\u001b[0membed\u001b[0m \u001b[0;32mand\u001b[0m \u001b[0mself\u001b[0m\u001b[0;34m.\u001b[0m\u001b[0mformat\u001b[0m \u001b[0;32mnot\u001b[0m \u001b[0;32min\u001b[0m \u001b[0mself\u001b[0m\u001b[0;34m.\u001b[0m\u001b[0m_ACCEPTABLE_EMBEDDINGS\u001b[0m\u001b[0;34m:\u001b[0m\u001b[0;34m\u001b[0m\u001b[0m\n\u001b[0;32m--> 752\u001b[0;31m             \u001b[0;32mraise\u001b[0m \u001b[0mValueError\u001b[0m\u001b[0;34m(\u001b[0m\u001b[0;34m\"Cannot embed the '%s' image format\"\u001b[0m \u001b[0;34m%\u001b[0m \u001b[0;34m(\u001b[0m\u001b[0mself\u001b[0m\u001b[0;34m.\u001b[0m\u001b[0mformat\u001b[0m\u001b[0;34m)\u001b[0m\u001b[0;34m)\u001b[0m\u001b[0;34m\u001b[0m\u001b[0m\n\u001b[0m\u001b[1;32m    753\u001b[0m         \u001b[0mself\u001b[0m\u001b[0;34m.\u001b[0m\u001b[0mwidth\u001b[0m \u001b[0;34m=\u001b[0m \u001b[0mwidth\u001b[0m\u001b[0;34m\u001b[0m\u001b[0m\n\u001b[1;32m    754\u001b[0m         \u001b[0mself\u001b[0m\u001b[0;34m.\u001b[0m\u001b[0mheight\u001b[0m \u001b[0;34m=\u001b[0m \u001b[0mheight\u001b[0m\u001b[0;34m\u001b[0m\u001b[0m\n",
      "\u001b[0;31mValueError\u001b[0m: Cannot embed the 'pdf' image format"
     ]
    }
   ],
   "source": [
    "display(Image(filename='reproducibility_data/confusion_matrix_lambda=1.pdf', embed=True))"
   ]
  },
  {
   "cell_type": "markdown",
   "metadata": {
    "collapsed": true
   },
   "source": [
    "<img style=\"float: right;\" src=\"img/lamb1.svg\">\n",
    "\n",
    "## 2.1 - With Graph regulator factor (lambda) = 1 "
   ]
  },
  {
   "cell_type": "code",
   "execution_count": null,
   "metadata": {
    "collapsed": true
   },
   "outputs": [],
   "source": [
    "lambd = 1\n",
    "n_permutations = 100"
   ]
  },
  {
   "cell_type": "markdown",
   "metadata": {},
   "source": [
    "### ! ! ! Clustering part will take few hours ! ! !"
   ]
  },
  {
   "cell_type": "code",
   "execution_count": null,
   "metadata": {
    "collapsed": true
   },
   "outputs": [],
   "source": [
    "lambd1_perm100 = all_functions(data_folder, patient_data, ppi_data, influence_weight,\n",
    "                               simplification, compute, overwrite, alpha, tol, ngh_max,\n",
    "                               keep_singletons, min_mutation, max_mutation, qn, n_components,\n",
    "                               n_permutations, run_bootstrap, run_consensus, lambd, tol_nmf,\n",
    "                               linkage_method)"
   ]
  },
  {
   "cell_type": "markdown",
   "metadata": {
    "collapsed": true
   },
   "source": [
    "<img style=\"float: right;\" src=\"img/lamb1800.svg\">\n",
    "## 2.2 - With Graph regulator factor (lambda) = 1800"
   ]
  },
  {
   "cell_type": "code",
   "execution_count": null,
   "metadata": {
    "collapsed": true
   },
   "outputs": [],
   "source": [
    "lambd = 1800"
   ]
  },
  {
   "cell_type": "markdown",
   "metadata": {},
   "source": [
    "### ! ! ! Clustering part will take few hours ! ! !  (yes, once again) "
   ]
  },
  {
   "cell_type": "code",
   "execution_count": null,
   "metadata": {
    "collapsed": true
   },
   "outputs": [],
   "source": [
    "lambd1800_perm100 = all_functions(data_folder, patient_data, ppi_data, influence_weight,\n",
    "                                  simplification, compute, overwrite, alpha, tol, ngh_max,\n",
    "                                  keep_singletons, min_mutation, max_mutation, qn,\n",
    "                                  n_components, n_permutations, run_bootstrap, run_consensus,\n",
    "                                  lambd, tol_nmf, linkage_method)"
   ]
  },
  {
   "cell_type": "markdown",
   "metadata": {
    "collapsed": true
   },
   "source": [
    "# 3 - Reproducibility analyses\n",
    "## 3.1 - Permutation number of bootstrap: 100 vs 1000, original work\n",
    "\n",
    "Due to time-comsuming task of bootstrap, we launched StratiPy with 100 permutations instead of 1000 which was proposed in the original NBS work. However you can always launch StratiPy with 1000 permutations if you want (you have to set \"n_permutations = 1000\").\n",
    "\n",
    "<img style=\"float: right;\" src=\"img/matlab.svg\">\n",
    "In [reproducibility data](reproducibility_data/), you can find results provided by original work with 100 and 1000 permutations.\n",
    "Before comparing testing results of StratiPy (Python), we have to verify whether any significant difference exists between 100 and 1000 permutations\n",
    "\n",
    "![1](img/confusion_matrices_1.svg)"
   ]
  },
  {
   "cell_type": "markdown",
   "metadata": {
    "collapsed": true
   },
   "source": [
    "### Load cluster index of each patients from original results (NBS)"
   ]
  },
  {
   "cell_type": "code",
   "execution_count": null,
   "metadata": {
    "collapsed": true
   },
   "outputs": [],
   "source": [
    "from confusion_matrices import get_cluster_idx, repro_confusion_matrix\n",
    "%matplotlib inline\n",
    "result_folder_repro = \"reproducibility_data/\""
   ]
  },
  {
   "cell_type": "code",
   "execution_count": null,
   "metadata": {
    "collapsed": true
   },
   "outputs": [],
   "source": [
    "# 100 and 1000 permutations of bootstrap\n",
    "nbs_100 = get_cluster_idx(result_folder_repro, method='nbs',\n",
    "                          n_permutations=100)\n",
    "nbs_1000 = get_cluster_idx(result_folder_repro, method='nbs',\n",
    "                           n_permutations=1000, replace=True)"
   ]
  },
  {
   "cell_type": "markdown",
   "metadata": {},
   "source": [
    "### Confusion matrix\n",
    "plot and save"
   ]
  },
  {
   "cell_type": "code",
   "execution_count": null,
   "metadata": {},
   "outputs": [
    {
     "data": {
      "image/png": "[encoded data removed]",
      "text/plain": [
       "<matplotlib.figure.Figure at 0x11be582e8>"
      ]
     },
     "metadata": {},
     "output_type": "display_data"
    }
   ],
   "source": [
    "repro_confusion_matrix(result_folder_repro, data1=nbs_100, data2=nbs_1000,\n",
    "                       plot_title='Confusion matrix\\n100 vs 1000 permutations of Bootstrap',\n",
    "                       param_value='lambda = ~1800')"
   ]
  },
  {
   "cell_type": "markdown",
   "metadata": {},
   "source": [
    "**Confusion matrix**: each row or column corresponds to a subgroup of patients (here three subgroups). The diagonal elements show the frequency of correct classifications for each\n",
    "subgroup: **a high value indicates a correct prediction.**\n",
    "\n",
    "\n",
    "As you can see, there is no significant difference between 2 results (100 vs 1000 permutations). We will now focus only on 100 permutations of Bootstrap."
   ]
  },
  {
   "cell_type": "markdown",
   "metadata": {},
   "source": [
    "## 3.2 - Graph regulator factor (lambda): 1 vs 1800, NBS vs StratiPy\n",
    "\n",
    "![2](img/confusion_matrices_2.svg)"
   ]
  },
  {
   "cell_type": "markdown",
   "metadata": {},
   "source": [
    "### Load cluster index of each patients from previously obtained results (StratiPy)"
   ]
  },
  {
   "cell_type": "code",
   "execution_count": null,
   "metadata": {
    "collapsed": true
   },
   "outputs": [],
   "source": [
    "# lambda 1 and 1800, both 100 permutations of bootstrap\n",
    "stp_100_lamb1 = get_cluster_idx(result_folder_repro, method='stratipy',\n",
    "                                n_permutations=100, lambd=1)\n",
    "stp_100_lamb1800 = get_cluster_idx(result_folder_repro, method='stratipy',\n",
    "                                   n_permutations=100, lambd=1800)"
   ]
  },
  {
   "cell_type": "markdown",
   "metadata": {},
   "source": [
    "### Confusion matrices"
   ]
  },
  {
   "cell_type": "code",
   "execution_count": null,
   "metadata": {},
   "outputs": [
    {
     "data": {
      "image/png": "[encoded data removed]",
      "text/plain": [
       "<matplotlib.figure.Figure at 0x11bc7c588>"
      ]
     },
     "metadata": {},
     "output_type": "display_data"
    }
   ],
   "source": [
    "# between NBS and StratiPy (lambda = 1)\n",
    "repro_confusion_matrix(result_folder_repro, data1=nbs_100, data2=stp_100_lamb1,\n",
    "                       plot_title='Confusion matrix\\nwith reported tuning parameter value',\n",
    "                       param_value='lambda = 1')\n"
   ]
  },
  {
   "cell_type": "code",
   "execution_count": null,
   "metadata": {},
   "outputs": [
    {
     "data": {
      "image/png": "[encoded data removed]",
      "text/plain": [
       "<matplotlib.figure.Figure at 0x11bb45c88>"
      ]
     },
     "metadata": {},
     "output_type": "display_data"
    }
   ],
   "source": [
    "# between NBS and StratiPy (lambda = 1800)\n",
    "repro_confusion_matrix(result_folder_repro, data1=nbs_100, data2=stp_100_lamb1800,\n",
    "                       plot_title='Confusion matrix\\nwith actually used tuning parameter value',\n",
    "                       param_value='lambda = ~1800')"
   ]
  }
 ],
 "metadata": {
  "kernelspec": {
   "display_name": "Python 3",
   "language": "python",
   "name": "python3"
  },
  "language_info": {
   "codemirror_mode": {
    "name": "ipython",
    "version": 3
   },
   "file_extension": ".py",
   "mimetype": "text/x-python",
   "name": "python",
   "nbconvert_exporter": "python",
   "pygments_lexer": "ipython3",
   "version": "3.6.1"
  }
 },
 "nbformat": 4,
 "nbformat_minor": 2
}
