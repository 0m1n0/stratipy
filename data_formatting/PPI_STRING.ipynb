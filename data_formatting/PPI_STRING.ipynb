{
 "cells": [
  {
   "cell_type": "code",
   "execution_count": 1,
   "metadata": {
    "collapsed": true
   },
   "outputs": [],
   "source": [
    "import sys\n",
    "import os\n",
    "sys.path.append(os.path.abspath('../../stratipy'))\n",
    "from stratipy import load_data\n",
    "import importlib  # NOTE for python >= Python3.4\n",
    "import scipy.sparse as sp\n",
    "import numpy as np\n",
    "import pandas as pd\n",
    "import time\n",
    "from datetime import datetime\n",
    "from scipy.io import loadmat, savemat"
   ]
  },
  {
   "cell_type": "code",
   "execution_count": 3,
   "metadata": {},
   "outputs": [],
   "source": [
    "data_folder = '../data/'\n",
    "# ppi_data = 'APID'\n"
   ]
  },
  {
   "cell_type": "markdown",
   "metadata": {},
   "source": [
    "# Load APID PPI network data"
   ]
  },
  {
   "cell_type": "code",
   "execution_count": 3,
   "metadata": {},
   "outputs": [
    {
     "name": "stdout",
     "output_type": "stream",
     "text": [
      " ==== load_PPI_APID\n",
      "***** PPI_APID file already exists *****\n",
      " ==== load_PPI \n",
      " ==== load_gene_id_ppi \n"
     ]
    }
   ],
   "source": [
    "APID_gene_id, APID_network = load_data.load_PPI_Y2H_or_APID(data_folder, ppi_data)"
   ]
  },
  {
   "cell_type": "code",
   "execution_count": 4,
   "metadata": {},
   "outputs": [
    {
     "data": {
      "text/plain": [
       "<14080x14080 sparse matrix of type '<class 'numpy.float32'>'\n",
       "\twith 227160 stored elements in Compressed Sparse Column format>"
      ]
     },
     "execution_count": 4,
     "metadata": {},
     "output_type": "execute_result"
    }
   ],
   "source": [
    "APID_network"
   ]
  },
  {
   "cell_type": "markdown",
   "metadata": {},
   "source": [
    "# Load STRING PPI network data\n",
    "data download from: https://stringdb-static.org/download/protein.links.v10.5/9606.protein.links.v10.5.txt.gz\n",
    "\n",
    "9606 = Homosapiens"
   ]
  },
  {
   "cell_type": "code",
   "execution_count": 4,
   "metadata": {
    "collapsed": true
   },
   "outputs": [],
   "source": [
    "string_ppi = pd.read_table(data_folder + '9606.protein.links.v10.5.txt',  delim_whitespace=True)"
   ]
  },
  {
   "cell_type": "code",
   "execution_count": 5,
   "metadata": {},
   "outputs": [
    {
     "name": "stdout",
     "output_type": "stream",
     "text": [
      "Raw STRING PPI number:  11353056\n"
     ]
    }
   ],
   "source": [
    "print(\"Raw STRING PPI number: \", string_ppi.shape[0])"
   ]
  },
  {
   "cell_type": "code",
   "execution_count": 7,
   "metadata": {},
   "outputs": [
    {
     "data": {
      "text/html": [
       "<div>\n",
       "<style>\n",
       "    .dataframe thead tr:only-child th {\n",
       "        text-align: right;\n",
       "    }\n",
       "\n",
       "    .dataframe thead th {\n",
       "        text-align: left;\n",
       "    }\n",
       "\n",
       "    .dataframe tbody tr th {\n",
       "        vertical-align: top;\n",
       "    }\n",
       "</style>\n",
       "<table border=\"1\" class=\"dataframe\">\n",
       "  <thead>\n",
       "    <tr style=\"text-align: right;\">\n",
       "      <th></th>\n",
       "      <th>protein1</th>\n",
       "      <th>protein2</th>\n",
       "      <th>combined_score</th>\n",
       "    </tr>\n",
       "  </thead>\n",
       "  <tbody>\n",
       "    <tr>\n",
       "      <th>0</th>\n",
       "      <td>9606.ENSP00000000233</td>\n",
       "      <td>9606.ENSP00000263431</td>\n",
       "      <td>260</td>\n",
       "    </tr>\n",
       "    <tr>\n",
       "      <th>1</th>\n",
       "      <td>9606.ENSP00000000233</td>\n",
       "      <td>9606.ENSP00000353863</td>\n",
       "      <td>164</td>\n",
       "    </tr>\n",
       "    <tr>\n",
       "      <th>2</th>\n",
       "      <td>9606.ENSP00000000233</td>\n",
       "      <td>9606.ENSP00000342026</td>\n",
       "      <td>159</td>\n",
       "    </tr>\n",
       "    <tr>\n",
       "      <th>3</th>\n",
       "      <td>9606.ENSP00000000233</td>\n",
       "      <td>9606.ENSP00000240874</td>\n",
       "      <td>194</td>\n",
       "    </tr>\n",
       "    <tr>\n",
       "      <th>4</th>\n",
       "      <td>9606.ENSP00000000233</td>\n",
       "      <td>9606.ENSP00000379847</td>\n",
       "      <td>164</td>\n",
       "    </tr>\n",
       "  </tbody>\n",
       "</table>\n",
       "</div>"
      ],
      "text/plain": [
       "               protein1              protein2  combined_score\n",
       "0  9606.ENSP00000000233  9606.ENSP00000263431             260\n",
       "1  9606.ENSP00000000233  9606.ENSP00000353863             164\n",
       "2  9606.ENSP00000000233  9606.ENSP00000342026             159\n",
       "3  9606.ENSP00000000233  9606.ENSP00000240874             194\n",
       "4  9606.ENSP00000000233  9606.ENSP00000379847             164"
      ]
     },
     "execution_count": 7,
     "metadata": {},
     "output_type": "execute_result"
    }
   ],
   "source": [
    "string_ppi.head()"
   ]
  },
  {
   "cell_type": "code",
   "execution_count": 6,
   "metadata": {
    "collapsed": true
   },
   "outputs": [],
   "source": [
    "# sort top 10% of combine_score\n",
    "top10_string = string_ppi.nlargest(round(string_ppi.shape[0]/10), 'combined_score')"
   ]
  },
  {
   "cell_type": "code",
   "execution_count": 7,
   "metadata": {},
   "outputs": [
    {
     "name": "stdout",
     "output_type": "stream",
     "text": [
      "Top 10% score of STRING PPI number:  1135306\n"
     ]
    }
   ],
   "source": [
    "print(\"Top 10% score of STRING PPI number: \", top10_string.shape[0])"
   ]
  },
  {
   "cell_type": "code",
   "execution_count": 8,
   "metadata": {},
   "outputs": [
    {
     "data": {
      "text/html": [
       "<div>\n",
       "<style scoped>\n",
       "    .dataframe tbody tr th:only-of-type {\n",
       "        vertical-align: middle;\n",
       "    }\n",
       "\n",
       "    .dataframe tbody tr th {\n",
       "        vertical-align: top;\n",
       "    }\n",
       "\n",
       "    .dataframe thead th {\n",
       "        text-align: right;\n",
       "    }\n",
       "</style>\n",
       "<table border=\"1\" class=\"dataframe\">\n",
       "  <thead>\n",
       "    <tr style=\"text-align: right;\">\n",
       "      <th></th>\n",
       "      <th>ensembl_1</th>\n",
       "      <th>ensembl_2</th>\n",
       "      <th>combined_score</th>\n",
       "    </tr>\n",
       "  </thead>\n",
       "  <tbody>\n",
       "    <tr>\n",
       "      <th>23489</th>\n",
       "      <td>ENSP00000007516</td>\n",
       "      <td>ENSP00000252102</td>\n",
       "      <td>999</td>\n",
       "    </tr>\n",
       "    <tr>\n",
       "      <th>23542</th>\n",
       "      <td>ENSP00000007516</td>\n",
       "      <td>ENSP00000354961</td>\n",
       "      <td>999</td>\n",
       "    </tr>\n",
       "    <tr>\n",
       "      <th>23598</th>\n",
       "      <td>ENSP00000007516</td>\n",
       "      <td>ENSP00000276062</td>\n",
       "      <td>999</td>\n",
       "    </tr>\n",
       "    <tr>\n",
       "      <th>23723</th>\n",
       "      <td>ENSP00000007516</td>\n",
       "      <td>ENSP00000389160</td>\n",
       "      <td>999</td>\n",
       "    </tr>\n",
       "    <tr>\n",
       "      <th>23741</th>\n",
       "      <td>ENSP00000007516</td>\n",
       "      <td>ENSP00000266544</td>\n",
       "      <td>999</td>\n",
       "    </tr>\n",
       "  </tbody>\n",
       "</table>\n",
       "</div>"
      ],
      "text/plain": [
       "             ensembl_1        ensembl_2  combined_score\n",
       "23489  ENSP00000007516  ENSP00000252102             999\n",
       "23542  ENSP00000007516  ENSP00000354961             999\n",
       "23598  ENSP00000007516  ENSP00000276062             999\n",
       "23723  ENSP00000007516  ENSP00000389160             999\n",
       "23741  ENSP00000007516  ENSP00000266544             999"
      ]
     },
     "execution_count": 8,
     "metadata": {},
     "output_type": "execute_result"
    }
   ],
   "source": [
    "# remove Homosapiens ID ('9606.')\n",
    "top10_string['protein1'] = top10_string['protein1'].str.replace('9606.', '')\n",
    "top10_string['protein2'] = top10_string['protein2'].str.replace('9606.', '')\n",
    "\n",
    "# rename\n",
    "top10_string.rename(columns={'protein1': 'ensembl_1',\n",
    "                            'protein2': 'ensembl_2'}, inplace = True)\n",
    "top10_string.head()"
   ]
  },
  {
   "cell_type": "code",
   "execution_count": 13,
   "metadata": {},
   "outputs": [
    {
     "data": {
      "text/plain": [
       "(1135306, 3)"
      ]
     },
     "execution_count": 13,
     "metadata": {},
     "output_type": "execute_result"
    }
   ],
   "source": [
    "top10_string.shape"
   ]
  },
  {
   "cell_type": "code",
   "execution_count": 11,
   "metadata": {},
   "outputs": [
    {
     "data": {
      "text/plain": [
       "17997"
      ]
     },
     "execution_count": 11,
     "metadata": {},
     "output_type": "execute_result"
    }
   ],
   "source": [
    "# unique values: proteins\n",
    "top10_string['ensembl_1'].nunique()"
   ]
  },
  {
   "cell_type": "code",
   "execution_count": 12,
   "metadata": {},
   "outputs": [
    {
     "data": {
      "text/plain": [
       "17995"
      ]
     },
     "execution_count": 12,
     "metadata": {},
     "output_type": "execute_result"
    }
   ],
   "source": [
    "top10_string['ensembl_2'].nunique()"
   ]
  },
  {
   "cell_type": "markdown",
   "metadata": {},
   "source": [
    "## ID mapping with BioMart data: Ensembl protein ID (ENSP) -> EntrezGene ID\n",
    "### !!! In STRING data: Ensembl protein ID (ENSP) and not Ensembl gene ID (ENSG)\n",
    "Downloaded from __[BioMart](https://grch37.ensembl.org/biomart/martview)__ <br>\n",
    "Human genes __(GRCh37.p13)__\n",
    "\n",
    "Attributes:\n",
    "- Gene stable ID (ENSG)\n",
    "- Protein stable ID (ENSP)\n",
    "- EntrezGene ID\n",
    "- HGNC symbol\n",
    "\n",
    "\"mart_export.txt\" (2018/06/25)"
   ]
  },
  {
   "cell_type": "code",
   "execution_count": 13,
   "metadata": {},
   "outputs": [
    {
     "data": {
      "text/html": [
       "<div>\n",
       "<style>\n",
       "    .dataframe thead tr:only-child th {\n",
       "        text-align: right;\n",
       "    }\n",
       "\n",
       "    .dataframe thead th {\n",
       "        text-align: left;\n",
       "    }\n",
       "\n",
       "    .dataframe tbody tr th {\n",
       "        vertical-align: top;\n",
       "    }\n",
       "</style>\n",
       "<table border=\"1\" class=\"dataframe\">\n",
       "  <thead>\n",
       "    <tr style=\"text-align: right;\">\n",
       "      <th></th>\n",
       "      <th>Gene stable ID</th>\n",
       "      <th>Protein stable ID</th>\n",
       "      <th>EntrezGene ID</th>\n",
       "      <th>HGNC symbol</th>\n",
       "    </tr>\n",
       "  </thead>\n",
       "  <tbody>\n",
       "    <tr>\n",
       "      <th>0</th>\n",
       "      <td>ENSG00000261657</td>\n",
       "      <td>ENSP00000456546</td>\n",
       "      <td>115286.0</td>\n",
       "      <td>SLC25A26</td>\n",
       "    </tr>\n",
       "    <tr>\n",
       "      <th>1</th>\n",
       "      <td>ENSG00000261657</td>\n",
       "      <td>ENSP00000457004</td>\n",
       "      <td>115286.0</td>\n",
       "      <td>SLC25A26</td>\n",
       "    </tr>\n",
       "    <tr>\n",
       "      <th>2</th>\n",
       "      <td>ENSG00000261657</td>\n",
       "      <td>ENSP00000456312</td>\n",
       "      <td>115286.0</td>\n",
       "      <td>SLC25A26</td>\n",
       "    </tr>\n",
       "    <tr>\n",
       "      <th>3</th>\n",
       "      <td>ENSG00000261657</td>\n",
       "      <td>ENSP00000456306</td>\n",
       "      <td>115286.0</td>\n",
       "      <td>SLC25A26</td>\n",
       "    </tr>\n",
       "    <tr>\n",
       "      <th>4</th>\n",
       "      <td>ENSG00000261657</td>\n",
       "      <td>NaN</td>\n",
       "      <td>115286.0</td>\n",
       "      <td>SLC25A26</td>\n",
       "    </tr>\n",
       "  </tbody>\n",
       "</table>\n",
       "</div>"
      ],
      "text/plain": [
       "    Gene stable ID Protein stable ID  EntrezGene ID HGNC symbol\n",
       "0  ENSG00000261657   ENSP00000456546       115286.0    SLC25A26\n",
       "1  ENSG00000261657   ENSP00000457004       115286.0    SLC25A26\n",
       "2  ENSG00000261657   ENSP00000456312       115286.0    SLC25A26\n",
       "3  ENSG00000261657   ENSP00000456306       115286.0    SLC25A26\n",
       "4  ENSG00000261657               NaN       115286.0    SLC25A26"
      ]
     },
     "execution_count": 13,
     "metadata": {},
     "output_type": "execute_result"
    }
   ],
   "source": [
    "df_biomart = pd.read_csv(data_folder + \"mart_export.txt\", sep=\"\\t\", index_col=False)\n",
    "df_biomart.head()"
   ]
  },
  {
   "cell_type": "code",
   "execution_count": 14,
   "metadata": {},
   "outputs": [
    {
     "data": {
      "text/plain": [
       "(233738, 4)"
      ]
     },
     "execution_count": 14,
     "metadata": {},
     "output_type": "execute_result"
    }
   ],
   "source": [
    "df_biomart.shape"
   ]
  },
  {
   "cell_type": "code",
   "execution_count": 63,
   "metadata": {},
   "outputs": [
    {
     "data": {
      "text/html": [
       "<div>\n",
       "<style>\n",
       "    .dataframe thead tr:only-child th {\n",
       "        text-align: right;\n",
       "    }\n",
       "\n",
       "    .dataframe thead th {\n",
       "        text-align: left;\n",
       "    }\n",
       "\n",
       "    .dataframe tbody tr th {\n",
       "        vertical-align: top;\n",
       "    }\n",
       "</style>\n",
       "<table border=\"1\" class=\"dataframe\">\n",
       "  <thead>\n",
       "    <tr style=\"text-align: right;\">\n",
       "      <th></th>\n",
       "      <th>Protein stable ID</th>\n",
       "      <th>EntrezGene ID</th>\n",
       "    </tr>\n",
       "  </thead>\n",
       "  <tbody>\n",
       "    <tr>\n",
       "      <th>0</th>\n",
       "      <td>ENSP00000456546</td>\n",
       "      <td>115286.0</td>\n",
       "    </tr>\n",
       "    <tr>\n",
       "      <th>1</th>\n",
       "      <td>ENSP00000457004</td>\n",
       "      <td>115286.0</td>\n",
       "    </tr>\n",
       "    <tr>\n",
       "      <th>2</th>\n",
       "      <td>ENSP00000456312</td>\n",
       "      <td>115286.0</td>\n",
       "    </tr>\n",
       "    <tr>\n",
       "      <th>3</th>\n",
       "      <td>ENSP00000456306</td>\n",
       "      <td>115286.0</td>\n",
       "    </tr>\n",
       "    <tr>\n",
       "      <th>4</th>\n",
       "      <td>NaN</td>\n",
       "      <td>115286.0</td>\n",
       "    </tr>\n",
       "  </tbody>\n",
       "</table>\n",
       "</div>"
      ],
      "text/plain": [
       "  Protein stable ID  EntrezGene ID\n",
       "0   ENSP00000456546       115286.0\n",
       "1   ENSP00000457004       115286.0\n",
       "2   ENSP00000456312       115286.0\n",
       "3   ENSP00000456306       115286.0\n",
       "4               NaN       115286.0"
      ]
     },
     "execution_count": 63,
     "metadata": {},
     "output_type": "execute_result"
    }
   ],
   "source": [
    "# keep only ENSP ID and EntrezGene ID\n",
    "df_biomart_ENSP_Entrez = df_biomart[['Protein stable ID', 'EntrezGene ID']]\n",
    "df_biomart_ENSP_Entrez.head()"
   ]
  },
  {
   "cell_type": "code",
   "execution_count": 66,
   "metadata": {},
   "outputs": [
    {
     "name": "stdout",
     "output_type": "stream",
     "text": [
      "NaN in ENSP ID: 119763 (51.2%)\n",
      "NaN in EntrezGene ID: 42551 (18.2%)\n"
     ]
    },
    {
     "data": {
      "text/plain": [
       "(111490, 2)"
      ]
     },
     "execution_count": 66,
     "metadata": {},
     "output_type": "execute_result"
    }
   ],
   "source": [
    "print(\"NaN in ENSP ID: {} ({}%)\"\n",
    "      .format(df_biomart_ENSP_Entrez['Protein stable ID'].isnull().sum(),\n",
    "              round(df_biomart_ENSP_Entrez['Protein stable ID'].isnull().sum()*100/df_biomart.shape[0], 1)))\n",
    "print(\"NaN in EntrezGene ID: {} ({}%)\"\n",
    "      .format(df_biomart_ENSP_Entrez['EntrezGene ID'].isnull().sum(),\n",
    "              round(df_biomart_ENSP_Entrez['EntrezGene ID'].isnull().sum()*100/df_biomart.shape[0], 1)))\n",
    "\n",
    "# remove ENSP and EntrezGene NaN rows\n",
    "df_biomart_compact = df_biomart_ENSP_Entrez[pd.notnull(df_biomart_ENSP_Entrez['Protein stable ID'])]\n",
    "df_biomart_compact = df_biomart_compact[pd.notnull(df_biomart_compact['EntrezGene ID'])]\n",
    "df_biomart_compact.shape"
   ]
  },
  {
   "cell_type": "code",
   "execution_count": 79,
   "metadata": {},
   "outputs": [
    {
     "data": {
      "text/html": [
       "<div>\n",
       "<style>\n",
       "    .dataframe thead tr:only-child th {\n",
       "        text-align: right;\n",
       "    }\n",
       "\n",
       "    .dataframe thead th {\n",
       "        text-align: left;\n",
       "    }\n",
       "\n",
       "    .dataframe tbody tr th {\n",
       "        vertical-align: top;\n",
       "    }\n",
       "</style>\n",
       "<table border=\"1\" class=\"dataframe\">\n",
       "  <thead>\n",
       "    <tr style=\"text-align: right;\">\n",
       "      <th></th>\n",
       "      <th>Protein stable ID</th>\n",
       "      <th>EntrezGene ID</th>\n",
       "    </tr>\n",
       "  </thead>\n",
       "  <tbody>\n",
       "    <tr>\n",
       "      <th>0</th>\n",
       "      <td>ENSP00000456546</td>\n",
       "      <td>115286.0</td>\n",
       "    </tr>\n",
       "    <tr>\n",
       "      <th>1</th>\n",
       "      <td>ENSP00000457004</td>\n",
       "      <td>115286.0</td>\n",
       "    </tr>\n",
       "    <tr>\n",
       "      <th>2</th>\n",
       "      <td>ENSP00000456312</td>\n",
       "      <td>115286.0</td>\n",
       "    </tr>\n",
       "    <tr>\n",
       "      <th>3</th>\n",
       "      <td>ENSP00000456306</td>\n",
       "      <td>115286.0</td>\n",
       "    </tr>\n",
       "    <tr>\n",
       "      <th>115</th>\n",
       "      <td>ENSP00000455676</td>\n",
       "      <td>685.0</td>\n",
       "    </tr>\n",
       "  </tbody>\n",
       "</table>\n",
       "</div>"
      ],
      "text/plain": [
       "    Protein stable ID  EntrezGene ID\n",
       "0     ENSP00000456546       115286.0\n",
       "1     ENSP00000457004       115286.0\n",
       "2     ENSP00000456312       115286.0\n",
       "3     ENSP00000456306       115286.0\n",
       "115   ENSP00000455676          685.0"
      ]
     },
     "execution_count": 79,
     "metadata": {},
     "output_type": "execute_result"
    }
   ],
   "source": [
    "df_biomart_compact.head()"
   ]
  },
  {
   "cell_type": "code",
   "execution_count": 100,
   "metadata": {},
   "outputs": [
    {
     "name": "stdout",
     "output_type": "stream",
     "text": [
      "Duplicated ENSP number:  15163\n",
      "Duplicated EntrezGene number:  108095\n"
     ]
    }
   ],
   "source": [
    "print('Duplicated ENSP number: ',\n",
    "      df_biomart_compact.duplicated(subset=['Protein stable ID'], keep=False).sum())\n",
    "print('Duplicated EntrezGene number: ',\n",
    "      df_biomart_compact.duplicated(subset=['EntrezGene ID'], keep=False).sum())"
   ]
  },
  {
   "cell_type": "markdown",
   "metadata": {},
   "source": [
    "### caca ex: 1 ENSG/ENSP/Gene symbol -> several EntrezGene IDs"
   ]
  },
  {
   "cell_type": "code",
   "execution_count": 86,
   "metadata": {},
   "outputs": [
    {
     "data": {
      "text/html": [
       "<div>\n",
       "<style>\n",
       "    .dataframe thead tr:only-child th {\n",
       "        text-align: right;\n",
       "    }\n",
       "\n",
       "    .dataframe thead th {\n",
       "        text-align: left;\n",
       "    }\n",
       "\n",
       "    .dataframe tbody tr th {\n",
       "        vertical-align: top;\n",
       "    }\n",
       "</style>\n",
       "<table border=\"1\" class=\"dataframe\">\n",
       "  <thead>\n",
       "    <tr style=\"text-align: right;\">\n",
       "      <th></th>\n",
       "      <th>Gene stable ID</th>\n",
       "      <th>Protein stable ID</th>\n",
       "      <th>EntrezGene ID</th>\n",
       "      <th>HGNC symbol</th>\n",
       "    </tr>\n",
       "  </thead>\n",
       "  <tbody>\n",
       "    <tr>\n",
       "      <th>233679</th>\n",
       "      <td>ENSG00000262596</td>\n",
       "      <td>ENSP00000459754</td>\n",
       "      <td>100996743.0</td>\n",
       "      <td>KIR2DS1</td>\n",
       "    </tr>\n",
       "    <tr>\n",
       "      <th>233680</th>\n",
       "      <td>ENSG00000262596</td>\n",
       "      <td>ENSP00000459754</td>\n",
       "      <td>100133046.0</td>\n",
       "      <td>KIR2DS1</td>\n",
       "    </tr>\n",
       "    <tr>\n",
       "      <th>233681</th>\n",
       "      <td>ENSG00000262596</td>\n",
       "      <td>ENSP00000459754</td>\n",
       "      <td>100132285.0</td>\n",
       "      <td>KIR2DS1</td>\n",
       "    </tr>\n",
       "    <tr>\n",
       "      <th>233682</th>\n",
       "      <td>ENSG00000262596</td>\n",
       "      <td>ENSP00000459754</td>\n",
       "      <td>3810.0</td>\n",
       "      <td>KIR2DS1</td>\n",
       "    </tr>\n",
       "    <tr>\n",
       "      <th>233683</th>\n",
       "      <td>ENSG00000262596</td>\n",
       "      <td>ENSP00000459754</td>\n",
       "      <td>3809.0</td>\n",
       "      <td>KIR2DS1</td>\n",
       "    </tr>\n",
       "    <tr>\n",
       "      <th>233684</th>\n",
       "      <td>ENSG00000262596</td>\n",
       "      <td>ENSP00000459754</td>\n",
       "      <td>3808.0</td>\n",
       "      <td>KIR2DS1</td>\n",
       "    </tr>\n",
       "    <tr>\n",
       "      <th>233685</th>\n",
       "      <td>ENSG00000262596</td>\n",
       "      <td>ENSP00000459754</td>\n",
       "      <td>3806.0</td>\n",
       "      <td>KIR2DS1</td>\n",
       "    </tr>\n",
       "    <tr>\n",
       "      <th>233686</th>\n",
       "      <td>ENSG00000262596</td>\n",
       "      <td>ENSP00000459754</td>\n",
       "      <td>3804.0</td>\n",
       "      <td>KIR2DS1</td>\n",
       "    </tr>\n",
       "  </tbody>\n",
       "</table>\n",
       "</div>"
      ],
      "text/plain": [
       "         Gene stable ID Protein stable ID  EntrezGene ID HGNC symbol\n",
       "233679  ENSG00000262596   ENSP00000459754    100996743.0     KIR2DS1\n",
       "233680  ENSG00000262596   ENSP00000459754    100133046.0     KIR2DS1\n",
       "233681  ENSG00000262596   ENSP00000459754    100132285.0     KIR2DS1\n",
       "233682  ENSG00000262596   ENSP00000459754         3810.0     KIR2DS1\n",
       "233683  ENSG00000262596   ENSP00000459754         3809.0     KIR2DS1\n",
       "233684  ENSG00000262596   ENSP00000459754         3808.0     KIR2DS1\n",
       "233685  ENSG00000262596   ENSP00000459754         3806.0     KIR2DS1\n",
       "233686  ENSG00000262596   ENSP00000459754         3804.0     KIR2DS1"
      ]
     },
     "execution_count": 86,
     "metadata": {},
     "output_type": "execute_result"
    }
   ],
   "source": [
    "df_biomart[df_biomart['Protein stable ID']=='ENSP00000459754']"
   ]
  },
  {
   "cell_type": "code",
   "execution_count": 91,
   "metadata": {},
   "outputs": [
    {
     "name": "stdout",
     "output_type": "stream",
     "text": [
      "Removed ENSP duplicates rows: 15163 (13.6%)\n"
     ]
    },
    {
     "data": {
      "text/plain": [
       "(96327, 2)"
      ]
     },
     "execution_count": 91,
     "metadata": {},
     "output_type": "execute_result"
    }
   ],
   "source": [
    "# remove all ENSP duplicates rows\n",
    "df_biomart_uniqENSP = df_biomart_compact.drop_duplicates(subset=['Protein stable ID'], keep=False)\n",
    "removed_ensp = df_biomart_compact.shape[0] - df_biomart_uniqENSP.shape[0]\n",
    "print(\"Removed ENSP duplicates rows: {} ({}%)\"\n",
    "     .format(removed_ensp, round(removed_ensp*100/df_biomart_compact.shape[0], 1)))\n",
    "df_biomart_uniqENSP.shape"
   ]
  },
  {
   "cell_type": "code",
   "execution_count": 94,
   "metadata": {},
   "outputs": [
    {
     "data": {
      "text/plain": [
       "(1135306, 7)"
      ]
     },
     "execution_count": 94,
     "metadata": {},
     "output_type": "execute_result"
    }
   ],
   "source": [
    "# merge based on ensembl_1 (_x)\n",
    "str_mart1 = top10_string.merge(df_biomart_uniqENSP, how='left', left_on='ensembl_1', right_on='Protein stable ID')\n",
    "# str_mart1.shape\n",
    "\n",
    "# merge based on ensembl_2 (_y)\n",
    "str_mart2 = str_mart1.merge(df_biomart_uniqENSP, how='left', left_on='ensembl_2', right_on='Protein stable ID')\n",
    "str_mart2.shape"
   ]
  },
  {
   "cell_type": "code",
   "execution_count": 103,
   "metadata": {},
   "outputs": [
    {
     "data": {
      "text/html": [
       "<div>\n",
       "<style>\n",
       "    .dataframe thead tr:only-child th {\n",
       "        text-align: right;\n",
       "    }\n",
       "\n",
       "    .dataframe thead th {\n",
       "        text-align: left;\n",
       "    }\n",
       "\n",
       "    .dataframe tbody tr th {\n",
       "        vertical-align: top;\n",
       "    }\n",
       "</style>\n",
       "<table border=\"1\" class=\"dataframe\">\n",
       "  <thead>\n",
       "    <tr style=\"text-align: right;\">\n",
       "      <th></th>\n",
       "      <th>ensembl_1</th>\n",
       "      <th>ensembl_2</th>\n",
       "      <th>EntrezGene ID_1</th>\n",
       "      <th>EntrezGene ID_2</th>\n",
       "    </tr>\n",
       "  </thead>\n",
       "  <tbody>\n",
       "    <tr>\n",
       "      <th>0</th>\n",
       "      <td>ENSP00000007516</td>\n",
       "      <td>ENSP00000252102</td>\n",
       "      <td>4706.0</td>\n",
       "      <td>4695.0</td>\n",
       "    </tr>\n",
       "    <tr>\n",
       "      <th>1</th>\n",
       "      <td>ENSP00000007516</td>\n",
       "      <td>ENSP00000354961</td>\n",
       "      <td>4706.0</td>\n",
       "      <td>4538.0</td>\n",
       "    </tr>\n",
       "    <tr>\n",
       "      <th>2</th>\n",
       "      <td>ENSP00000007516</td>\n",
       "      <td>ENSP00000276062</td>\n",
       "      <td>4706.0</td>\n",
       "      <td>54539.0</td>\n",
       "    </tr>\n",
       "    <tr>\n",
       "      <th>3</th>\n",
       "      <td>ENSP00000007516</td>\n",
       "      <td>ENSP00000389160</td>\n",
       "      <td>4706.0</td>\n",
       "      <td>126328.0</td>\n",
       "    </tr>\n",
       "    <tr>\n",
       "      <th>4</th>\n",
       "      <td>ENSP00000007516</td>\n",
       "      <td>ENSP00000266544</td>\n",
       "      <td>4706.0</td>\n",
       "      <td>4704.0</td>\n",
       "    </tr>\n",
       "  </tbody>\n",
       "</table>\n",
       "</div>"
      ],
      "text/plain": [
       "         ensembl_1        ensembl_2  EntrezGene ID_1  EntrezGene ID_2\n",
       "0  ENSP00000007516  ENSP00000252102           4706.0           4695.0\n",
       "1  ENSP00000007516  ENSP00000354961           4706.0           4538.0\n",
       "2  ENSP00000007516  ENSP00000276062           4706.0          54539.0\n",
       "3  ENSP00000007516  ENSP00000389160           4706.0         126328.0\n",
       "4  ENSP00000007516  ENSP00000266544           4706.0           4704.0"
      ]
     },
     "execution_count": 103,
     "metadata": {},
     "output_type": "execute_result"
    }
   ],
   "source": [
    "df_string = str_mart2[['ensembl_1', 'ensembl_2', 'EntrezGene ID_x', 'EntrezGene ID_y']]\n",
    "df_string = df_string.rename(columns={'EntrezGene ID_x': 'EntrezGene ID_1',\n",
    "                                     'EntrezGene ID_y': 'EntrezGene ID_2'})\n",
    "df_string.head()"
   ]
  },
  {
   "cell_type": "code",
   "execution_count": 109,
   "metadata": {},
   "outputs": [
    {
     "name": "stdout",
     "output_type": "stream",
     "text": [
      "NaN in EntrezGene ID_1: 72733 (6.4%)\n",
      "NaN in EntrezGene ID_2: 72779 (6.4%)\n"
     ]
    },
    {
     "data": {
      "text/plain": [
       "(997965, 4)"
      ]
     },
     "execution_count": 109,
     "metadata": {},
     "output_type": "execute_result"
    }
   ],
   "source": [
    "print(\"NaN in EntrezGene ID_1: {} ({}%)\"\n",
    "      .format(df_string['EntrezGene ID_1'].isnull().sum(),\n",
    "              round(df_string['EntrezGene ID_1'].isnull().sum()*100/df_string.shape[0], 1)))\n",
    "print(\"NaN in EntrezGene ID_2: {} ({}%)\"\n",
    "      .format(df_string['EntrezGene ID_2'].isnull().sum(),\n",
    "              round(df_string['EntrezGene ID_2'].isnull().sum()*100/df_string.shape[0], 1)))\n",
    "\n",
    "# remove EntrezGene NaN rows\n",
    "df_string = df_string[pd.notnull(df_string['EntrezGene ID_1'])]\n",
    "df_string = df_string[pd.notnull(df_string['EntrezGene ID_2'])]\n",
    "df_string.shape"
   ]
  },
  {
   "cell_type": "code",
   "execution_count": 123,
   "metadata": {},
   "outputs": [
    {
     "name": "stdout",
     "output_type": "stream",
     "text": [
      "Removed duplicated EntrezGene PPI: 1994 (0.2%)\n"
     ]
    },
    {
     "data": {
      "text/plain": [
       "(995971, 4)"
      ]
     },
     "execution_count": 123,
     "metadata": {},
     "output_type": "execute_result"
    }
   ],
   "source": [
    "df_string_compact = df_string.drop_duplicates(subset=['EntrezGene ID_1', 'EntrezGene ID_2'])\n",
    "print(\"Removed duplicated EntrezGene PPI: {} ({}%)\"\n",
    "      .format(df_string.shape[0]-df_string_compact.shape[0],\n",
    "             round((df_string.shape[0]-df_string_compact.shape[0])*100/df_string.shape[0], 1)))\n",
    "df_string_compact.shape"
   ]
  },
  {
   "cell_type": "markdown",
   "metadata": {},
   "source": [
    "## Create STRING PPI network matrix"
   ]
  },
  {
   "cell_type": "code",
   "execution_count": 141,
   "metadata": {
    "collapsed": true
   },
   "outputs": [],
   "source": [
    "# EntrezGene ID in lists\n",
    "entrez1 = df_string_compact['EntrezGene ID_1']#.tolist()\n",
    "entrez2 = df_string_compact['EntrezGene ID_2']#.tolist()\n",
    "\n",
    "# from float to int\n",
    "# entrez1 = [int(i) for i in entrez1]\n",
    "# entrez2 = [int(i) for i in entrez2]"
   ]
  },
  {
   "cell_type": "code",
   "execution_count": 146,
   "metadata": {
    "collapsed": true
   },
   "outputs": [],
   "source": [
    "def coordinate(prot_list, all_list):\n",
    "    coo_list = []\n",
    "    for prot in prot_list:\n",
    "        i = all_list.index(prot)\n",
    "        coo_list.append(i)\n",
    "    return coo_list\n",
    "\n",
    "def create_adjacency_matrix(prot1, prot2):\n",
    "    edge_list = np.vstack((prot1, prot2)).T\n",
    "    gene_id_ppi = (edge_list.flatten()).tolist()\n",
    "    gene_id_ppi = list(set(gene_id_ppi))\n",
    "\n",
    "    # From ID list to coordinate list\n",
    "    print(' ==== coordinates ')\n",
    "    coo1 = coordinate(prot1.tolist(), gene_id_ppi)\n",
    "    coo2 = coordinate(prot2.tolist(), gene_id_ppi)\n",
    "\n",
    "    # Adjacency matrix\n",
    "    print(' ==== Adjacency matrix ')\n",
    "    n = len(gene_id_ppi)\n",
    "    weight = np.ones(len(coo1))  # if interaction -> 1\n",
    "    network = sp.coo_matrix((weight, (coo1, coo2)), shape=(n, n))\n",
    "    network = network + network.T  # symmetric matrix\n",
    "#     savemat(PPI_file, {'adj_mat': network, 'entrez_id': gene_id_ppi},\n",
    "#             do_compression=True)\n",
    "    return gene_id_ppi, network"
   ]
  },
  {
   "cell_type": "code",
   "execution_count": 147,
   "metadata": {},
   "outputs": [
    {
     "name": "stdout",
     "output_type": "stream",
     "text": [
      " ==== coordinates \n",
      " ==== Adjacency matrix \n"
     ]
    }
   ],
   "source": [
    "STRING_gene_id, STRING_network = create_adjacency_matrix(entrez1, entrez2)"
   ]
  },
  {
   "cell_type": "code",
   "execution_count": 148,
   "metadata": {},
   "outputs": [
    {
     "data": {
      "text/plain": [
       "<16590x16590 sparse matrix of type '<class 'numpy.float64'>'\n",
       "\twith 996925 stored elements in Compressed Sparse Row format>"
      ]
     },
     "execution_count": 148,
     "metadata": {},
     "output_type": "execute_result"
    }
   ],
   "source": [
    "STRING_network"
   ]
  },
  {
   "cell_type": "code",
   "execution_count": 150,
   "metadata": {
    "collapsed": true
   },
   "outputs": [],
   "source": [
    "savemat(data_folder + 'PPI_STRING_v10_5.mat',\n",
    "        {'adj_mat': STRING_network, 'entrez_id': STRING_gene_id},do_compression=True)"
   ]
  },
  {
   "cell_type": "markdown",
   "metadata": {},
   "source": [
    "# Load gene lists"
   ]
  },
  {
   "cell_type": "code",
   "execution_count": 17,
   "metadata": {
    "collapsed": true
   },
   "outputs": [],
   "source": [
    "gene_lists = pd.read_csv(data_folder + 'GenesListWebsite.tsv', sep='\\t')"
   ]
  },
  {
   "cell_type": "code",
   "execution_count": 18,
   "metadata": {},
   "outputs": [
    {
     "data": {
      "text/html": [
       "<div>\n",
       "<style>\n",
       "    .dataframe thead tr:only-child th {\n",
       "        text-align: right;\n",
       "    }\n",
       "\n",
       "    .dataframe thead th {\n",
       "        text-align: left;\n",
       "    }\n",
       "\n",
       "    .dataframe tbody tr th {\n",
       "        vertical-align: top;\n",
       "    }\n",
       "</style>\n",
       "<table border=\"1\" class=\"dataframe\">\n",
       "  <thead>\n",
       "    <tr style=\"text-align: right;\">\n",
       "      <th></th>\n",
       "      <th>EntrezId</th>\n",
       "      <th>Gene</th>\n",
       "      <th>Body#Blood</th>\n",
       "      <th>Body#Heart</th>\n",
       "      <th>Body#Kidney</th>\n",
       "      <th>Body#Liver</th>\n",
       "      <th>Body#Lung</th>\n",
       "      <th>Body#Skeletal_muscle</th>\n",
       "      <th>Body#Testes</th>\n",
       "      <th>Body#Ovary</th>\n",
       "      <th>...</th>\n",
       "      <th>Evolution#Brain_diseases_positive</th>\n",
       "      <th>Evolution#Brain_diseases_negative</th>\n",
       "      <th>Evolution#Brain_diseases_neutral</th>\n",
       "      <th>Evolution#Brain_structures-functions-diseases_positive</th>\n",
       "      <th>Evolution#Brain_structures-functions-diseases_negative</th>\n",
       "      <th>Evolution#Brain_structures-functions-diseases_neutral</th>\n",
       "      <th>Evolution#No_introgression</th>\n",
       "      <th>Evolution#Low_introgression</th>\n",
       "      <th>Evolution#High_introgression</th>\n",
       "      <th>Evolution#High_CADD</th>\n",
       "    </tr>\n",
       "  </thead>\n",
       "  <tbody>\n",
       "    <tr>\n",
       "      <th>0</th>\n",
       "      <td>2</td>\n",
       "      <td>A2M</td>\n",
       "      <td>False</td>\n",
       "      <td>False</td>\n",
       "      <td>False</td>\n",
       "      <td>False</td>\n",
       "      <td>False</td>\n",
       "      <td>False</td>\n",
       "      <td>False</td>\n",
       "      <td>False</td>\n",
       "      <td>...</td>\n",
       "      <td>False</td>\n",
       "      <td>False</td>\n",
       "      <td>True</td>\n",
       "      <td>False</td>\n",
       "      <td>False</td>\n",
       "      <td>True</td>\n",
       "      <td>False</td>\n",
       "      <td>False</td>\n",
       "      <td>False</td>\n",
       "      <td>False</td>\n",
       "    </tr>\n",
       "    <tr>\n",
       "      <th>1</th>\n",
       "      <td>3</td>\n",
       "      <td>A2MP1</td>\n",
       "      <td>False</td>\n",
       "      <td>False</td>\n",
       "      <td>False</td>\n",
       "      <td>False</td>\n",
       "      <td>False</td>\n",
       "      <td>False</td>\n",
       "      <td>False</td>\n",
       "      <td>False</td>\n",
       "      <td>...</td>\n",
       "      <td>False</td>\n",
       "      <td>False</td>\n",
       "      <td>False</td>\n",
       "      <td>False</td>\n",
       "      <td>False</td>\n",
       "      <td>False</td>\n",
       "      <td>False</td>\n",
       "      <td>False</td>\n",
       "      <td>False</td>\n",
       "      <td>False</td>\n",
       "    </tr>\n",
       "    <tr>\n",
       "      <th>2</th>\n",
       "      <td>9</td>\n",
       "      <td>NAT1</td>\n",
       "      <td>False</td>\n",
       "      <td>False</td>\n",
       "      <td>False</td>\n",
       "      <td>False</td>\n",
       "      <td>False</td>\n",
       "      <td>False</td>\n",
       "      <td>False</td>\n",
       "      <td>False</td>\n",
       "      <td>...</td>\n",
       "      <td>False</td>\n",
       "      <td>False</td>\n",
       "      <td>False</td>\n",
       "      <td>False</td>\n",
       "      <td>False</td>\n",
       "      <td>False</td>\n",
       "      <td>True</td>\n",
       "      <td>False</td>\n",
       "      <td>False</td>\n",
       "      <td>False</td>\n",
       "    </tr>\n",
       "    <tr>\n",
       "      <th>3</th>\n",
       "      <td>10</td>\n",
       "      <td>NAT2</td>\n",
       "      <td>False</td>\n",
       "      <td>False</td>\n",
       "      <td>False</td>\n",
       "      <td>True</td>\n",
       "      <td>False</td>\n",
       "      <td>False</td>\n",
       "      <td>False</td>\n",
       "      <td>False</td>\n",
       "      <td>...</td>\n",
       "      <td>False</td>\n",
       "      <td>False</td>\n",
       "      <td>False</td>\n",
       "      <td>False</td>\n",
       "      <td>False</td>\n",
       "      <td>True</td>\n",
       "      <td>False</td>\n",
       "      <td>False</td>\n",
       "      <td>False</td>\n",
       "      <td>False</td>\n",
       "    </tr>\n",
       "    <tr>\n",
       "      <th>4</th>\n",
       "      <td>12</td>\n",
       "      <td>SERPINA3</td>\n",
       "      <td>False</td>\n",
       "      <td>False</td>\n",
       "      <td>False</td>\n",
       "      <td>False</td>\n",
       "      <td>False</td>\n",
       "      <td>False</td>\n",
       "      <td>False</td>\n",
       "      <td>False</td>\n",
       "      <td>...</td>\n",
       "      <td>False</td>\n",
       "      <td>False</td>\n",
       "      <td>False</td>\n",
       "      <td>False</td>\n",
       "      <td>False</td>\n",
       "      <td>True</td>\n",
       "      <td>False</td>\n",
       "      <td>False</td>\n",
       "      <td>False</td>\n",
       "      <td>False</td>\n",
       "    </tr>\n",
       "  </tbody>\n",
       "</table>\n",
       "<p>5 rows × 102 columns</p>\n",
       "</div>"
      ],
      "text/plain": [
       "   EntrezId      Gene  Body#Blood  Body#Heart  Body#Kidney  Body#Liver  \\\n",
       "0         2       A2M       False       False        False       False   \n",
       "1         3     A2MP1       False       False        False       False   \n",
       "2         9      NAT1       False       False        False       False   \n",
       "3        10      NAT2       False       False        False        True   \n",
       "4        12  SERPINA3       False       False        False       False   \n",
       "\n",
       "   Body#Lung  Body#Skeletal_muscle  Body#Testes  Body#Ovary  \\\n",
       "0      False                 False        False       False   \n",
       "1      False                 False        False       False   \n",
       "2      False                 False        False       False   \n",
       "3      False                 False        False       False   \n",
       "4      False                 False        False       False   \n",
       "\n",
       "          ...           Evolution#Brain_diseases_positive  \\\n",
       "0         ...                                       False   \n",
       "1         ...                                       False   \n",
       "2         ...                                       False   \n",
       "3         ...                                       False   \n",
       "4         ...                                       False   \n",
       "\n",
       "   Evolution#Brain_diseases_negative  Evolution#Brain_diseases_neutral  \\\n",
       "0                              False                              True   \n",
       "1                              False                             False   \n",
       "2                              False                             False   \n",
       "3                              False                             False   \n",
       "4                              False                             False   \n",
       "\n",
       "   Evolution#Brain_structures-functions-diseases_positive  \\\n",
       "0                                              False        \n",
       "1                                              False        \n",
       "2                                              False        \n",
       "3                                              False        \n",
       "4                                              False        \n",
       "\n",
       "   Evolution#Brain_structures-functions-diseases_negative  \\\n",
       "0                                              False        \n",
       "1                                              False        \n",
       "2                                              False        \n",
       "3                                              False        \n",
       "4                                              False        \n",
       "\n",
       "   Evolution#Brain_structures-functions-diseases_neutral  \\\n",
       "0                                               True       \n",
       "1                                              False       \n",
       "2                                              False       \n",
       "3                                               True       \n",
       "4                                               True       \n",
       "\n",
       "   Evolution#No_introgression  Evolution#Low_introgression  \\\n",
       "0                       False                        False   \n",
       "1                       False                        False   \n",
       "2                        True                        False   \n",
       "3                       False                        False   \n",
       "4                       False                        False   \n",
       "\n",
       "   Evolution#High_introgression  Evolution#High_CADD  \n",
       "0                         False                False  \n",
       "1                         False                False  \n",
       "2                         False                False  \n",
       "3                         False                False  \n",
       "4                         False                False  \n",
       "\n",
       "[5 rows x 102 columns]"
      ]
     },
     "execution_count": 18,
     "metadata": {},
     "output_type": "execute_result"
    }
   ],
   "source": [
    "gene_lists.head()"
   ]
  },
  {
   "cell_type": "code",
   "execution_count": 19,
   "metadata": {},
   "outputs": [
    {
     "data": {
      "text/plain": [
       "['EntrezId',\n",
       " 'Gene',\n",
       " 'Body#Blood',\n",
       " 'Body#Heart',\n",
       " 'Body#Kidney',\n",
       " 'Body#Liver',\n",
       " 'Body#Lung',\n",
       " 'Body#Skeletal_muscle',\n",
       " 'Body#Testes',\n",
       " 'Body#Ovary',\n",
       " 'Body#Brain_(RNAseq)',\n",
       " 'Body#Fetal_brain_(microarray)',\n",
       " 'Body#Adult_brain_(microarray)',\n",
       " 'Body#Brain_(MS)',\n",
       " 'Brain_Structures#Adrenal_cortex',\n",
       " 'Brain_Structures#Adrenal_gland',\n",
       " 'Brain_Structures#Amygdala',\n",
       " 'Brain_Structures#Caudate_nucleus',\n",
       " 'Brain_Structures#Cerebellum',\n",
       " 'Brain_Structures#Cerebellum_peduncles',\n",
       " 'Brain_Structures#Ciliary_ganglion',\n",
       " 'Brain_Structures#Cingulate_cortex',\n",
       " 'Brain_Structures#Dorsal_root_ganglion',\n",
       " 'Brain_Structures#Globus_pallidus',\n",
       " 'Brain_Structures#Hypothalamus',\n",
       " 'Brain_Structures#Medulla_oblongata',\n",
       " 'Brain_Structures#Occipital_lobe',\n",
       " 'Brain_Structures#Olfactory_bulb',\n",
       " 'Brain_Structures#Parietal_lobe',\n",
       " 'Brain_Structures#Pons',\n",
       " 'Brain_Structures#Prefrontal_cortex',\n",
       " 'Brain_Structures#Spinal_cord',\n",
       " 'Brain_Structures#Subthalamic_nucleus',\n",
       " 'Brain_Structures#Superior_cervical_ganglion',\n",
       " 'Brain_Structures#Temporal_lobe',\n",
       " 'Brain_Structures#Thalamus',\n",
       " 'Brain_Structures#Trigeminal_ganglion',\n",
       " 'Brain_Structures#Pineal_gland_(day)',\n",
       " 'Brain_Structures#Pineal_gland_(night)',\n",
       " 'Brain_Structures#Retina',\n",
       " 'Brain_Functions#Cell_adhesion_and_trans-synaptic_signaling',\n",
       " 'Brain_Functions#Cell_metabolism',\n",
       " 'Brain_Functions#Endocytosis',\n",
       " 'Brain_Functions#Excitability',\n",
       " 'Brain_Functions#Exocytosis',\n",
       " 'Brain_Functions#G-protein-coupled_receptor_signaling',\n",
       " 'Brain_Functions#G-protein_relay',\n",
       " 'Brain_Functions#Intracellular_signal_transduction',\n",
       " 'Brain_Functions#Intracellular_trafficking',\n",
       " 'Brain_Functions#Ion_balance/transport',\n",
       " 'Brain_Functions#Ligand-gated_ion_channel_signaling',\n",
       " 'Brain_Functions#Neurotransmitter_metabolism',\n",
       " 'Brain_Functions#Peptide/neurotrophin_signals',\n",
       " 'Brain_Functions#Protein_cluster',\n",
       " 'Brain_Functions#RNA_and_protein_synthesis_folding_and_breakdown',\n",
       " 'Brain_Functions#Structural_plasticity',\n",
       " 'Brain_Functions#Tyrosine_kinase_signaling',\n",
       " 'Brain_Functions#Glutamatergic',\n",
       " 'Brain_Functions#Cholinergic',\n",
       " 'Brain_Functions#Serotonergic',\n",
       " 'Brain_Functions#GABAergic',\n",
       " 'Brain_Functions#Dopaminergic',\n",
       " 'Brain_Functions#Cell Adhesion',\n",
       " 'Brain_Functions#Excitatory_(MS)',\n",
       " 'Brain_Functions#Inhibitory_(MS)',\n",
       " 'Brain_Diseases#TADA',\n",
       " 'Brain_Diseases#SFARI',\n",
       " 'Brain_Diseases#DBD',\n",
       " 'Brain_Diseases#Macrocephaly',\n",
       " 'Brain_Diseases#Microcephaly',\n",
       " 'Brain_Diseases#Neurodegeneration',\n",
       " 'Brain_Diseases#Myelin',\n",
       " 'Brain_Diseases#Schizophrenia',\n",
       " 'Brain_Diseases#Epilepsy',\n",
       " 'Brain_Diseases#Depression',\n",
       " 'Brain_Diseases#Headache',\n",
       " 'Brain_Diseases#Parkinson',\n",
       " 'Brain_Diseases#Encephalopathy',\n",
       " 'Brain_Diseases#Huntington',\n",
       " 'Brain_Diseases#Blindness',\n",
       " 'Brain_Diseases#Deafness',\n",
       " 'Brain_Diseases#Dyslexia',\n",
       " 'Brain_Diseases#Intellectual_disability',\n",
       " 'Evolution#Positive',\n",
       " 'Evolution#Negative',\n",
       " 'Evolution#Neutral',\n",
       " 'Evolution#Brain_structures_positive',\n",
       " 'Evolution#Brain_structures_negative',\n",
       " 'Evolution#Brain_structures_neutral',\n",
       " 'Evolution#Brain_functions_positive',\n",
       " 'Evolution#Brain_functions_negative',\n",
       " 'Evolution#Brain_functions_neutral',\n",
       " 'Evolution#Brain_diseases_positive',\n",
       " 'Evolution#Brain_diseases_negative',\n",
       " 'Evolution#Brain_diseases_neutral',\n",
       " 'Evolution#Brain_structures-functions-diseases_positive',\n",
       " 'Evolution#Brain_structures-functions-diseases_negative',\n",
       " 'Evolution#Brain_structures-functions-diseases_neutral',\n",
       " 'Evolution#No_introgression',\n",
       " 'Evolution#Low_introgression',\n",
       " 'Evolution#High_introgression',\n",
       " 'Evolution#High_CADD']"
      ]
     },
     "execution_count": 19,
     "metadata": {},
     "output_type": "execute_result"
    }
   ],
   "source": [
    "list(gene_lists)"
   ]
  },
  {
   "cell_type": "code",
   "execution_count": null,
   "metadata": {
    "collapsed": true
   },
   "outputs": [],
   "source": []
  },
  {
   "cell_type": "code",
   "execution_count": null,
   "metadata": {
    "collapsed": true
   },
   "outputs": [],
   "source": []
  },
  {
   "cell_type": "code",
   "execution_count": null,
   "metadata": {
    "collapsed": true
   },
   "outputs": [],
   "source": []
  },
  {
   "cell_type": "code",
   "execution_count": null,
   "metadata": {
    "collapsed": true
   },
   "outputs": [],
   "source": []
  }
 ],
 "metadata": {
  "kernelspec": {
   "display_name": "Python (stratipy3)",
   "language": "python",
   "name": "stratipy3"
  },
  "language_info": {
   "codemirror_mode": {
    "name": "ipython",
    "version": 3
   },
   "file_extension": ".py",
   "mimetype": "text/x-python",
   "name": "python",
   "nbconvert_exporter": "python",
   "pygments_lexer": "ipython3",
   "version": "3.6.5"
  }
 },
 "nbformat": 4,
 "nbformat_minor": 2
}
