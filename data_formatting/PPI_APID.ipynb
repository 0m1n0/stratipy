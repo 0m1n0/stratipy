{
 "cells": [
  {
   "cell_type": "code",
   "execution_count": 1,
   "metadata": {
    "collapsed": false,
    "deletable": true,
    "editable": true
   },
   "outputs": [
    {
     "name": "stdout",
     "output_type": "stream",
     "text": [
      "Populating the interactive namespace from numpy and matplotlib\n"
     ]
    },
    {
     "name": "stderr",
     "output_type": "stream",
     "text": [
      "/Users/Min/anaconda/envs/stratipy3/lib/python3.6/site-packages/IPython/core/magics/pylab.py:161: UserWarning: pylab import has clobbered these variables: ['datetime']\n",
      "`%matplotlib` prevents importing * from pylab and numpy\n",
      "  \"\\n`%matplotlib` prevents importing * from pylab and numpy\"\n"
     ]
    }
   ],
   "source": [
    "import sys\n",
    "import os\n",
    "sys.path.append(os.path.abspath('../../stratipy'))\n",
    "from stratipy import load_data\n",
    "import importlib  # NOTE for python >= Python3.4\n",
    "import scipy.sparse as sp\n",
    "import numpy as np\n",
    "import pandas as pd\n",
    "import time\n",
    "from datetime import datetime\n",
    "# from sklearn.model_selection import ParameterGrid\n",
    "from scipy.io import loadmat, savemat\n",
    "import networkx as nx\n",
    "import collections\n",
    "import matplotlib.pyplot as plt\n",
    "from matplotlib_venn import venn2\n",
    "%pylab inline\n",
    "%matplotlib inline\n",
    "%load_ext autoreload\n",
    "%autoreload 2"
   ]
  },
  {
   "cell_type": "code",
   "execution_count": 2,
   "metadata": {
    "collapsed": true,
    "deletable": true,
    "editable": true
   },
   "outputs": [],
   "source": [
    "pd.options.mode.chained_assignment = None  # default='warn'\n",
    "data_folder = \"dataset/\""
   ]
  },
  {
   "cell_type": "markdown",
   "metadata": {
    "deletable": true,
    "editable": true
   },
   "source": [
    "# Load APID PPI data (Dr. Javier DE LAS RIVAS)\n",
    "Ref: __[APID interactomes: providing proteome-based interactomes with controlled quality for multiple species and derived networks](https://academic.oup.com/nar/article/44/W1/W529/2499348)__<br>\n",
    "\n",
    "APID server: http://apid.dep.usal.es/<br>\n",
    "Last downloaded on 2018/04(Apr)/05 <br>\n",
    "Level 2: proven by 2 experiments or more:\n",
    "- 133 993 interactions\n",
    "- 17 324 interacting proteins\n",
    "\n",
    "\n",
    "#### Raw colums:\n",
    "- InteractionID\t\n",
    "- UniprotID_A\t\n",
    "- UniprotName_A\t\n",
    "- GeneName_A\t\n",
    "- UniprotID_B\t\n",
    "- UniprotName_B\t\n",
    "- GeneName_B\t\n",
    "- Experiments: number of experiments\n",
    "- Methods: number of methods\n",
    "- Publications: number of publications\n",
    "- 3DStructures: number of 3D structures (PDBs)\n",
    "- CurationEvents: number of curation events (including source databases)\n",
    "\n"
   ]
  },
  {
   "cell_type": "code",
   "execution_count": 3,
   "metadata": {
    "collapsed": false,
    "deletable": true,
    "editable": true
   },
   "outputs": [
    {
     "name": "stdout",
     "output_type": "stream",
     "text": [
      "interacting proteins number: 133993\n",
      "interacting Human-Human proteins number: 115981\n",
      "18012 interspecific interactions removed (13.4%)\n"
     ]
    },
    {
     "data": {
      "text/html": [
       "<div>\n",
       "<style scoped>\n",
       "    .dataframe tbody tr th:only-of-type {\n",
       "        vertical-align: middle;\n",
       "    }\n",
       "\n",
       "    .dataframe tbody tr th {\n",
       "        vertical-align: top;\n",
       "    }\n",
       "\n",
       "    .dataframe thead th {\n",
       "        text-align: right;\n",
       "    }\n",
       "</style>\n",
       "<table border=\"1\" class=\"dataframe\">\n",
       "  <thead>\n",
       "    <tr style=\"text-align: right;\">\n",
       "      <th></th>\n",
       "      <th>InteractionID</th>\n",
       "      <th>UniprotID_A</th>\n",
       "      <th>UniprotName_A</th>\n",
       "      <th>GeneName_A</th>\n",
       "      <th>UniprotID_B</th>\n",
       "      <th>UniprotName_B</th>\n",
       "      <th>GeneName_B</th>\n",
       "      <th>Experiments</th>\n",
       "      <th>Methods</th>\n",
       "      <th>Publications</th>\n",
       "      <th>3DStructures</th>\n",
       "      <th>CurationEvents</th>\n",
       "    </tr>\n",
       "  </thead>\n",
       "  <tbody>\n",
       "    <tr>\n",
       "      <th>0</th>\n",
       "      <td>242748</td>\n",
       "      <td>A0A024R0Y4</td>\n",
       "      <td>A0A024R0Y4_HUMAN</td>\n",
       "      <td>TADA2A</td>\n",
       "      <td>Q8WWY3</td>\n",
       "      <td>PRP31_HUMAN</td>\n",
       "      <td>PRPF31</td>\n",
       "      <td>3</td>\n",
       "      <td>3</td>\n",
       "      <td>1</td>\n",
       "      <td>0</td>\n",
       "      <td>3</td>\n",
       "    </tr>\n",
       "    <tr>\n",
       "      <th>1</th>\n",
       "      <td>277739</td>\n",
       "      <td>A0A024R4Q5</td>\n",
       "      <td>A0A024R4Q5_HUMAN</td>\n",
       "      <td>TFPT</td>\n",
       "      <td>Q96D03</td>\n",
       "      <td>DDT4L_HUMAN</td>\n",
       "      <td>DDIT4L</td>\n",
       "      <td>2</td>\n",
       "      <td>2</td>\n",
       "      <td>1</td>\n",
       "      <td>0</td>\n",
       "      <td>4</td>\n",
       "    </tr>\n",
       "    <tr>\n",
       "      <th>2</th>\n",
       "      <td>277740</td>\n",
       "      <td>A0A024R4Q5</td>\n",
       "      <td>A0A024R4Q5_HUMAN</td>\n",
       "      <td>TFPT</td>\n",
       "      <td>P51911</td>\n",
       "      <td>CNN1_HUMAN</td>\n",
       "      <td>CNN1</td>\n",
       "      <td>2</td>\n",
       "      <td>2</td>\n",
       "      <td>1</td>\n",
       "      <td>0</td>\n",
       "      <td>4</td>\n",
       "    </tr>\n",
       "    <tr>\n",
       "      <th>3</th>\n",
       "      <td>302485</td>\n",
       "      <td>A0A024R5S0</td>\n",
       "      <td>A0A024R5S0_HUMAN</td>\n",
       "      <td>hCG_2003792</td>\n",
       "      <td>Q9NVV9</td>\n",
       "      <td>THAP1_HUMAN</td>\n",
       "      <td>THAP1</td>\n",
       "      <td>3</td>\n",
       "      <td>3</td>\n",
       "      <td>1</td>\n",
       "      <td>0</td>\n",
       "      <td>3</td>\n",
       "    </tr>\n",
       "    <tr>\n",
       "      <th>4</th>\n",
       "      <td>321925</td>\n",
       "      <td>A0A024R5S0</td>\n",
       "      <td>A0A024R5S0_HUMAN</td>\n",
       "      <td>hCG_2003792</td>\n",
       "      <td>Q02446</td>\n",
       "      <td>SP4_HUMAN</td>\n",
       "      <td>SP4</td>\n",
       "      <td>3</td>\n",
       "      <td>3</td>\n",
       "      <td>1</td>\n",
       "      <td>0</td>\n",
       "      <td>3</td>\n",
       "    </tr>\n",
       "  </tbody>\n",
       "</table>\n",
       "</div>"
      ],
      "text/plain": [
       "   InteractionID UniprotID_A     UniprotName_A   GeneName_A UniprotID_B  \\\n",
       "0         242748  A0A024R0Y4  A0A024R0Y4_HUMAN       TADA2A      Q8WWY3   \n",
       "1         277739  A0A024R4Q5  A0A024R4Q5_HUMAN         TFPT      Q96D03   \n",
       "2         277740  A0A024R4Q5  A0A024R4Q5_HUMAN         TFPT      P51911   \n",
       "3         302485  A0A024R5S0  A0A024R5S0_HUMAN  hCG_2003792      Q9NVV9   \n",
       "4         321925  A0A024R5S0  A0A024R5S0_HUMAN  hCG_2003792      Q02446   \n",
       "\n",
       "  UniprotName_B GeneName_B  Experiments  Methods  Publications  3DStructures  \\\n",
       "0   PRP31_HUMAN     PRPF31            3        3             1             0   \n",
       "1   DDT4L_HUMAN     DDIT4L            2        2             1             0   \n",
       "2    CNN1_HUMAN       CNN1            2        2             1             0   \n",
       "3   THAP1_HUMAN      THAP1            3        3             1             0   \n",
       "4     SP4_HUMAN        SP4            3        3             1             0   \n",
       "\n",
       "   CurationEvents  \n",
       "0               3  \n",
       "1               4  \n",
       "2               4  \n",
       "3               3  \n",
       "4               3  "
      ]
     },
     "execution_count": 3,
     "metadata": {},
     "output_type": "execute_result"
    }
   ],
   "source": [
    "df_apid = pd.read_csv(data_folder + \"9606_Q2.txt\", sep=\"\\t\")\n",
    "print(\"interacting proteins number:\", df_apid.shape[0])\n",
    "\n",
    "# keep only interactions between Human-Human proteins\n",
    "df_apid_HH = df_apid[df_apid.UniprotName_A.str.contains(\"_HUMAN\") & \n",
    "                     df_apid.UniprotName_B.str.contains(\"_HUMAN\") == True]\n",
    "print(\"interacting Human-Human proteins number:\", df_apid_HH.shape[0])\n",
    "\n",
    "print(\"{} interspecific interactions removed ({}%)\"\n",
    "      .format(df_apid.shape[0]-df_apid_HH.shape[0],\n",
    "             round((1-df_apid_HH.shape[0]/df_apid.shape[0])*100,1)))\n",
    "\n",
    "df_apid_HH.head()"
   ]
  },
  {
   "cell_type": "code",
   "execution_count": 4,
   "metadata": {
    "collapsed": false,
    "deletable": true,
    "editable": true
   },
   "outputs": [
    {
     "data": {
      "text/html": [
       "<div>\n",
       "<style scoped>\n",
       "    .dataframe tbody tr th:only-of-type {\n",
       "        vertical-align: middle;\n",
       "    }\n",
       "\n",
       "    .dataframe tbody tr th {\n",
       "        vertical-align: top;\n",
       "    }\n",
       "\n",
       "    .dataframe thead th {\n",
       "        text-align: right;\n",
       "    }\n",
       "</style>\n",
       "<table border=\"1\" class=\"dataframe\">\n",
       "  <thead>\n",
       "    <tr style=\"text-align: right;\">\n",
       "      <th></th>\n",
       "      <th>GeneSymbol_1</th>\n",
       "      <th>UniProt_1</th>\n",
       "      <th>GeneSymbol_2</th>\n",
       "      <th>UniProt_2</th>\n",
       "    </tr>\n",
       "  </thead>\n",
       "  <tbody>\n",
       "    <tr>\n",
       "      <th>0</th>\n",
       "      <td>TADA2A</td>\n",
       "      <td>A0A024R0Y4</td>\n",
       "      <td>PRPF31</td>\n",
       "      <td>Q8WWY3</td>\n",
       "    </tr>\n",
       "    <tr>\n",
       "      <th>1</th>\n",
       "      <td>TFPT</td>\n",
       "      <td>A0A024R4Q5</td>\n",
       "      <td>DDIT4L</td>\n",
       "      <td>Q96D03</td>\n",
       "    </tr>\n",
       "    <tr>\n",
       "      <th>2</th>\n",
       "      <td>TFPT</td>\n",
       "      <td>A0A024R4Q5</td>\n",
       "      <td>CNN1</td>\n",
       "      <td>P51911</td>\n",
       "    </tr>\n",
       "    <tr>\n",
       "      <th>3</th>\n",
       "      <td>hCG_2003792</td>\n",
       "      <td>A0A024R5S0</td>\n",
       "      <td>THAP1</td>\n",
       "      <td>Q9NVV9</td>\n",
       "    </tr>\n",
       "    <tr>\n",
       "      <th>4</th>\n",
       "      <td>hCG_2003792</td>\n",
       "      <td>A0A024R5S0</td>\n",
       "      <td>SP4</td>\n",
       "      <td>Q02446</td>\n",
       "    </tr>\n",
       "  </tbody>\n",
       "</table>\n",
       "</div>"
      ],
      "text/plain": [
       "  GeneSymbol_1   UniProt_1 GeneSymbol_2 UniProt_2\n",
       "0       TADA2A  A0A024R0Y4       PRPF31    Q8WWY3\n",
       "1         TFPT  A0A024R4Q5       DDIT4L    Q96D03\n",
       "2         TFPT  A0A024R4Q5         CNN1    P51911\n",
       "3  hCG_2003792  A0A024R5S0        THAP1    Q9NVV9\n",
       "4  hCG_2003792  A0A024R5S0          SP4    Q02446"
      ]
     },
     "execution_count": 4,
     "metadata": {},
     "output_type": "execute_result"
    }
   ],
   "source": [
    "# keep only GeneSymbol ID and UniProt ID\n",
    "# then change column names\n",
    "df_apid_HH = df_apid_HH[[\"GeneName_A\", \"UniprotID_A\", \"GeneName_B\", \"UniprotID_B\"]]\n",
    "df_apid_HH.columns = [\"GeneSymbol_1\", \"UniProt_1\", \"GeneSymbol_2\", \"UniProt_2\"]\n",
    "df_apid_HH.head()"
   ]
  },
  {
   "cell_type": "markdown",
   "metadata": {
    "deletable": true,
    "editable": true
   },
   "source": [
    "### There are some Gene Symbols not found"
   ]
  },
  {
   "cell_type": "code",
   "execution_count": 5,
   "metadata": {
    "collapsed": false,
    "deletable": true,
    "editable": true
   },
   "outputs": [
    {
     "name": "stdout",
     "output_type": "stream",
     "text": [
      "unique UniProt number: 14657\n",
      "unique Gene Symbol number: 14241\n",
      "there are 416 fewer Gene Symbols than UniProt ID (2.8%)\n"
     ]
    }
   ],
   "source": [
    "# APID's UniProt\n",
    "apid_unip_1 = df_apid_HH.UniProt_1.drop_duplicates()\n",
    "apid_unip_2 = df_apid_HH.UniProt_2.drop_duplicates()\n",
    "apid_unip_rows_1 = list(apid_unip_1.index)\n",
    "apid_unip_rows_2 = list(apid_unip_2.index)\n",
    "apid_unip = apid_unip_1.append(apid_unip_2).drop_duplicates()\n",
    "\n",
    "# APID's Gene Symbol\n",
    "apid_geneSymb = df_apid_HH.GeneSymbol_1.append(df_apid_HH.GeneSymbol_2)\n",
    "apid_geneSymb = apid_geneSymb.drop_duplicates()\n",
    "\n",
    "print(\"unique UniProt number:\", len(apid_unip))\n",
    "print(\"unique Gene Symbol number:\", len(apid_geneSymb))\n",
    "diff = len(apid_unip)-len(apid_geneSymb)\n",
    "print(\"there are {} fewer Gene Symbols than UniProt ID ({}%)\"\n",
    "      .format(diff, round((diff/len(apid_unip))*100, 1)))"
   ]
  },
  {
   "cell_type": "code",
   "execution_count": 6,
   "metadata": {
    "collapsed": false,
    "deletable": true,
    "editable": true
   },
   "outputs": [
    {
     "name": "stdout",
     "output_type": "stream",
     "text": [
      "----- NaN values in Gene Symbols -----\n",
      "GeneSymbol_1    126\n",
      "GeneSymbol_2    135\n",
      "dtype: int64\n"
     ]
    },
    {
     "data": {
      "text/html": [
       "<div>\n",
       "<style scoped>\n",
       "    .dataframe tbody tr th:only-of-type {\n",
       "        vertical-align: middle;\n",
       "    }\n",
       "\n",
       "    .dataframe tbody tr th {\n",
       "        vertical-align: top;\n",
       "    }\n",
       "\n",
       "    .dataframe thead th {\n",
       "        text-align: right;\n",
       "    }\n",
       "</style>\n",
       "<table border=\"1\" class=\"dataframe\">\n",
       "  <thead>\n",
       "    <tr style=\"text-align: right;\">\n",
       "      <th></th>\n",
       "      <th>GeneSymbol_1</th>\n",
       "      <th>UniProt_1</th>\n",
       "      <th>GeneSymbol_2</th>\n",
       "      <th>UniProt_2</th>\n",
       "    </tr>\n",
       "  </thead>\n",
       "  <tbody>\n",
       "    <tr>\n",
       "      <th>205</th>\n",
       "      <td>FSD2</td>\n",
       "      <td>A1L4K1</td>\n",
       "      <td>NaN</td>\n",
       "      <td>Q9H6F0</td>\n",
       "    </tr>\n",
       "    <tr>\n",
       "      <th>246</th>\n",
       "      <td>TARSL2</td>\n",
       "      <td>A2RTX5</td>\n",
       "      <td>NaN</td>\n",
       "      <td>B2RDX5</td>\n",
       "    </tr>\n",
       "    <tr>\n",
       "      <th>494</th>\n",
       "      <td>NaN</td>\n",
       "      <td>A8K2R3</td>\n",
       "      <td>KRT38</td>\n",
       "      <td>O76015</td>\n",
       "    </tr>\n",
       "    <tr>\n",
       "      <th>495</th>\n",
       "      <td>NaN</td>\n",
       "      <td>A8K2R3</td>\n",
       "      <td>TRIM54</td>\n",
       "      <td>Q9BYV2</td>\n",
       "    </tr>\n",
       "    <tr>\n",
       "      <th>496</th>\n",
       "      <td>NaN</td>\n",
       "      <td>A8K2R3</td>\n",
       "      <td>TRIM39</td>\n",
       "      <td>Q9HCM9</td>\n",
       "    </tr>\n",
       "  </tbody>\n",
       "</table>\n",
       "</div>"
      ],
      "text/plain": [
       "    GeneSymbol_1 UniProt_1 GeneSymbol_2 UniProt_2\n",
       "205         FSD2    A1L4K1          NaN    Q9H6F0\n",
       "246       TARSL2    A2RTX5          NaN    B2RDX5\n",
       "494          NaN    A8K2R3        KRT38    O76015\n",
       "495          NaN    A8K2R3       TRIM54    Q9BYV2\n",
       "496          NaN    A8K2R3       TRIM39    Q9HCM9"
      ]
     },
     "execution_count": 6,
     "metadata": {},
     "output_type": "execute_result"
    }
   ],
   "source": [
    "# get index of NaN values in GeneSymbol_1 & 2\n",
    "null_columns = df_apid_HH.columns[df_apid_HH.isnull().any()]\n",
    "print(\"----- NaN values in Gene Symbols -----\")\n",
    "print(df_apid_HH[null_columns].isnull().sum())\n",
    "\n",
    "df_apid_HH[df_apid_HH.isnull().any(axis=1)][null_columns]\n",
    "null_idx = list(df_apid_HH[df_apid_HH.isnull().any(axis=1)][null_columns].index)\n",
    "\n",
    "df_apid_HH.loc[null_idx].head()"
   ]
  },
  {
   "cell_type": "markdown",
   "metadata": {
    "deletable": true,
    "editable": true
   },
   "source": [
    "Sum of NaN values in GeneSymbol_1&2 (258+209=467) < 632 <br>\n",
    "<b> => One Gene Symbol can have several UniProt ID </b>"
   ]
  },
  {
   "cell_type": "markdown",
   "metadata": {
    "deletable": true,
    "editable": true
   },
   "source": [
    "## Load UniProtKB data\n",
    "\n",
    "Complete human gene data set downloaded from __[UniProtKB](ftp://ftp.uniprot.org/pub/databases/uniprot/current_release/knowledgebase/idmapping/)__<br>\n",
    "\"HUMAN_9606_idmapping_selected.tab.gz\" (2018/01/31)\n",
    "\n",
    "#### Raw colums:\n",
    "1. UniProtKB-AC\n",
    "2. UniProtKB-ID\n",
    "3. GeneID (EntrezGene)\n",
    "4. RefSeq\n",
    "5. GI\n",
    "6. PDB\n",
    "7. GO\n",
    "8. UniRef100\n",
    "9. UniRef90\n",
    "10. UniRef50\n",
    "11. UniParc\n",
    "12. PIR\n",
    "13. NCBI-taxon\n",
    "14. MIM\n",
    "15. UniGene\n",
    "16. PubMed\n",
    "17. EMBL\n",
    "18. EMBL-CDS\n",
    "19. Ensembl\n",
    "20. Ensembl_TRS\n",
    "21. Ensembl_PRO\n",
    "22. Additional PubMed"
   ]
  },
  {
   "cell_type": "code",
   "execution_count": 7,
   "metadata": {
    "collapsed": false,
    "deletable": true,
    "editable": true
   },
   "outputs": [
    {
     "data": {
      "text/html": [
       "<div>\n",
       "<style scoped>\n",
       "    .dataframe tbody tr th:only-of-type {\n",
       "        vertical-align: middle;\n",
       "    }\n",
       "\n",
       "    .dataframe tbody tr th {\n",
       "        vertical-align: top;\n",
       "    }\n",
       "\n",
       "    .dataframe thead th {\n",
       "        text-align: right;\n",
       "    }\n",
       "</style>\n",
       "<table border=\"1\" class=\"dataframe\">\n",
       "  <thead>\n",
       "    <tr style=\"text-align: right;\">\n",
       "      <th></th>\n",
       "      <th>UniProt_AC</th>\n",
       "      <th>EntrezGene</th>\n",
       "    </tr>\n",
       "  </thead>\n",
       "  <tbody>\n",
       "    <tr>\n",
       "      <th>0</th>\n",
       "      <td>P31946</td>\n",
       "      <td>7529</td>\n",
       "    </tr>\n",
       "    <tr>\n",
       "      <th>1</th>\n",
       "      <td>P62258</td>\n",
       "      <td>7531</td>\n",
       "    </tr>\n",
       "    <tr>\n",
       "      <th>2</th>\n",
       "      <td>Q04917</td>\n",
       "      <td>7533</td>\n",
       "    </tr>\n",
       "    <tr>\n",
       "      <th>3</th>\n",
       "      <td>P61981</td>\n",
       "      <td>7532</td>\n",
       "    </tr>\n",
       "    <tr>\n",
       "      <th>4</th>\n",
       "      <td>P31947</td>\n",
       "      <td>2810</td>\n",
       "    </tr>\n",
       "  </tbody>\n",
       "</table>\n",
       "</div>"
      ],
      "text/plain": [
       "  UniProt_AC EntrezGene\n",
       "0     P31946       7529\n",
       "1     P62258       7531\n",
       "2     Q04917       7533\n",
       "3     P61981       7532\n",
       "4     P31947       2810"
      ]
     },
     "execution_count": 7,
     "metadata": {},
     "output_type": "execute_result"
    }
   ],
   "source": [
    "# only get UniProtKB-AC and GeneID (EntrezGene)\n",
    "df_unip = pd.read_csv(data_folder + \"HUMAN_9606_idmapping_selected.tab\", sep=\"\\t\",\n",
    "                      index_col=False, usecols=[0,2], names=[\"UniProt_AC\", \"EntrezGene\"])\n",
    "df_unip.head()"
   ]
  },
  {
   "cell_type": "markdown",
   "metadata": {
    "deletable": true,
    "editable": true
   },
   "source": [
    "## Load HGNC data\n",
    "Complete HGNC dataset downloaded from __[HGNC (HUGO Gene Nomenclature Committee)](https://www.genenames.org/cgi-bin/statistics)__ <br>\n",
    "\"hgnc_complete_set.txt\" (2018/02(Feb)/09)\n",
    "\n",
    "#### Raw colums:\n",
    "1. hgnc_id\t\n",
    "2. symbol\t\n",
    "3. name\t\n",
    "4. locus_group\t\n",
    "5. locus_type\t\n",
    "6. status\t\n",
    "7. location\t\n",
    "8. location_sortable\t\n",
    "9. alias_symbol\t\n",
    "10. alias_name\t\n",
    "11. prev_symbol\t\n",
    "12. prev_name\t\n",
    "13. gene_family\t\n",
    "14. gene_family_id\t\n",
    "15. date_approved_reserved\t\n",
    "16. date_symbol_changed\t\n",
    "17. date_name_changed\t\n",
    "18. date_modified\t\n",
    "19. entrez_id\t\n",
    "20. ensembl_gene_id\t\n",
    "21. vega_id\t\n",
    "22. ucsc_id\t\n",
    "23. ena\t\n",
    "24. refseq_accession\t\n",
    "25. ccds_id\t\n",
    "26. uniprot_ids\t\n",
    "27. pubmed_id\t\n",
    "28. mgd_id\t\n",
    "29. rgd_id\t\n",
    "30. lsdb\t\n",
    "31. cosmic\t\n",
    "32. omim_id\t\n",
    "33. mirbase\t\n",
    "34. homeodb\t\n",
    "35. snornabase\t\n",
    "36. bioparadigms_slc\t\n",
    "37. orphanet\t\n",
    "38. pseudogene.org\t\n",
    "39. horde_id\t\n",
    "40. merops\t\n",
    "41. imgt\t\n",
    "42. iuphar\t\n",
    "43. kznf_gene_catalog\t\n",
    "44. mamit-trnadb\t\n",
    "45. cd\t\n",
    "46. lncrnadb\t\n",
    "47. enzyme_id\t\n",
    "48. intermediate_filament_db\t\n",
    "49. rna_central_ids\n"
   ]
  },
  {
   "cell_type": "code",
   "execution_count": 8,
   "metadata": {
    "collapsed": false,
    "deletable": true,
    "editable": true
   },
   "outputs": [
    {
     "name": "stdout",
     "output_type": "stream",
     "text": [
      "----- NaN values in raw data (42471 rows) -----\n"
     ]
    },
    {
     "data": {
      "text/plain": [
       "symbol             0\n",
       "entrez_id       1267\n",
       "uniprot_ids    22448\n",
       "dtype: int64"
      ]
     },
     "execution_count": 8,
     "metadata": {},
     "output_type": "execute_result"
    }
   ],
   "source": [
    "# only get symbol (Gene Symbol), entrez_id (EntrezGene) and uniprot_ids\n",
    "df_hgnc = pd.read_csv(data_folder + \"hgnc_complete_set.txt\", sep=\"\\t\",\n",
    "                      index_col=False, usecols=[1,18,25])\n",
    "\n",
    "print(\"----- NaN values in raw data ({} rows) -----\".format(df_hgnc.symbol.size))\n",
    "df_hgnc.isnull().sum()"
   ]
  },
  {
   "cell_type": "markdown",
   "metadata": {
    "deletable": true,
    "editable": true
   },
   "source": [
    "# ID mapping with APID\n",
    "\n",
    "### HGNC: from Gene Symbol to EntrezGene ID\n",
    "#### Overlapping analysis between Gene Symobl and EntrezGene"
   ]
  },
  {
   "cell_type": "code",
   "execution_count": 11,
   "metadata": {
    "collapsed": false,
    "deletable": true,
    "editable": true
   },
   "outputs": [
    {
     "name": "stdout",
     "output_type": "stream",
     "text": [
      "all unique Gene Symbols in APID: 14241\n",
      "all Gene Symbols in filtered HGNC: 42471\n"
     ]
    }
   ],
   "source": [
    "# Gene Symbols in APID\n",
    "print(\"all unique Gene Symbols in APID:\", len(apid_geneSymb))\n",
    "\n",
    "# Gene Symbols in HGNC \n",
    "print(\"all Gene Symbols in HGNC:\", df_hgnc.symbol.size)"
   ]
  },
  {
   "cell_type": "code",
   "execution_count": 12,
   "metadata": {
    "collapsed": false,
    "deletable": true,
    "editable": true
   },
   "outputs": [
    {
     "name": "stdout",
     "output_type": "stream",
     "text": [
      "intersection of Gene Symbols: 14085\n"
     ]
    }
   ],
   "source": [
    "intersection_geneSymb = list((set(apid_geneSymb)).intersection(set(df_hgnc.symbol)))\n",
    "print(\"intersection of Gene Symbols:\", len(intersection_geneSymb))\n",
    "\n",
    "# print(\"{} of APID's UnitProt ID are not found in EntrezGene ID \"\n",
    "#       .format(len(apid_unip)-len(intersection_prot)))"
   ]
  },
  {
   "cell_type": "code",
   "execution_count": 14,
   "metadata": {
    "collapsed": false,
    "deletable": true,
    "editable": true
   },
   "outputs": [
    {
     "data": {
      "text/html": [
       "<div>\n",
       "<style scoped>\n",
       "    .dataframe tbody tr th:only-of-type {\n",
       "        vertical-align: middle;\n",
       "    }\n",
       "\n",
       "    .dataframe tbody tr th {\n",
       "        vertical-align: top;\n",
       "    }\n",
       "\n",
       "    .dataframe thead th {\n",
       "        text-align: right;\n",
       "    }\n",
       "</style>\n",
       "<table border=\"1\" class=\"dataframe\">\n",
       "  <thead>\n",
       "    <tr style=\"text-align: right;\">\n",
       "      <th></th>\n",
       "      <th>EntrezGene_1</th>\n",
       "      <th>GeneSymbol_1</th>\n",
       "      <th>UniProt_1</th>\n",
       "      <th>EntrezGene_2</th>\n",
       "      <th>GeneSymbol_2</th>\n",
       "      <th>UniProt_2</th>\n",
       "    </tr>\n",
       "    <tr>\n",
       "      <th>index</th>\n",
       "      <th></th>\n",
       "      <th></th>\n",
       "      <th></th>\n",
       "      <th></th>\n",
       "      <th></th>\n",
       "      <th></th>\n",
       "    </tr>\n",
       "  </thead>\n",
       "  <tbody>\n",
       "    <tr>\n",
       "      <th>0</th>\n",
       "      <td>6871.0</td>\n",
       "      <td>TADA2A</td>\n",
       "      <td>A0A024R0Y4</td>\n",
       "      <td>26121.0</td>\n",
       "      <td>PRPF31</td>\n",
       "      <td>Q8WWY3</td>\n",
       "    </tr>\n",
       "    <tr>\n",
       "      <th>1</th>\n",
       "      <td>29844.0</td>\n",
       "      <td>TFPT</td>\n",
       "      <td>A0A024R4Q5</td>\n",
       "      <td>115265.0</td>\n",
       "      <td>DDIT4L</td>\n",
       "      <td>Q96D03</td>\n",
       "    </tr>\n",
       "    <tr>\n",
       "      <th>2</th>\n",
       "      <td>29844.0</td>\n",
       "      <td>TFPT</td>\n",
       "      <td>A0A024R4Q5</td>\n",
       "      <td>1264.0</td>\n",
       "      <td>CNN1</td>\n",
       "      <td>P51911</td>\n",
       "    </tr>\n",
       "    <tr>\n",
       "      <th>3</th>\n",
       "      <td>NaN</td>\n",
       "      <td>hCG_2003792</td>\n",
       "      <td>A0A024R5S0</td>\n",
       "      <td>55145.0</td>\n",
       "      <td>THAP1</td>\n",
       "      <td>Q9NVV9</td>\n",
       "    </tr>\n",
       "    <tr>\n",
       "      <th>4</th>\n",
       "      <td>NaN</td>\n",
       "      <td>hCG_2003792</td>\n",
       "      <td>A0A024R5S0</td>\n",
       "      <td>6671.0</td>\n",
       "      <td>SP4</td>\n",
       "      <td>Q02446</td>\n",
       "    </tr>\n",
       "  </tbody>\n",
       "</table>\n",
       "</div>"
      ],
      "text/plain": [
       "       EntrezGene_1 GeneSymbol_1   UniProt_1  EntrezGene_2 GeneSymbol_2  \\\n",
       "index                                                                     \n",
       "0            6871.0       TADA2A  A0A024R0Y4       26121.0       PRPF31   \n",
       "1           29844.0         TFPT  A0A024R4Q5      115265.0       DDIT4L   \n",
       "2           29844.0         TFPT  A0A024R4Q5        1264.0         CNN1   \n",
       "3               NaN  hCG_2003792  A0A024R5S0       55145.0        THAP1   \n",
       "4               NaN  hCG_2003792  A0A024R5S0        6671.0          SP4   \n",
       "\n",
       "      UniProt_2  \n",
       "index            \n",
       "0        Q8WWY3  \n",
       "1        Q96D03  \n",
       "2        P51911  \n",
       "3        Q9NVV9  \n",
       "4        Q02446  "
      ]
     },
     "execution_count": 14,
     "metadata": {},
     "output_type": "execute_result"
    }
   ],
   "source": [
    "# merge on APID's GeneSymbol (1 then 2) to get corresponding EntrezGene ID\n",
    "# keeping the index from the 1st frame\n",
    "joined1 = df_apid_HH.reset_index().merge(\n",
    "    df_hgnc, how='left', left_on='GeneSymbol_1', right_on='symbol').set_index('index')\n",
    "joined2 = joined1.reset_index().merge(\n",
    "    df_hgnc, how='left', left_on='GeneSymbol_2', right_on='symbol').set_index('index')\n",
    "\n",
    "# remove redundant columns\n",
    "df = joined2.drop(['symbol_x', 'uniprot_ids_x', 'symbol_y', 'uniprot_ids_y'], axis=1)\n",
    "\n",
    "# rename columns\n",
    "df = df.rename(columns={'entrez_id_x': 'EntrezGene_1',\n",
    "                        'entrez_id_y': 'EntrezGene_2'})\n",
    "# reorder columns\n",
    "cols = list(df)\n",
    "cols.insert(0, cols.pop(cols.index('EntrezGene_1')))\n",
    "cols.insert(3, cols.pop(cols.index('EntrezGene_2')))\n",
    "df = df.loc[:, cols]\n",
    "\n",
    "df.head()"
   ]
  },
  {
   "cell_type": "code",
   "execution_count": 15,
   "metadata": {
    "collapsed": false,
    "deletable": true,
    "editable": true
   },
   "outputs": [
    {
     "data": {
      "text/plain": [
       "126"
      ]
     },
     "execution_count": 15,
     "metadata": {},
     "output_type": "execute_result"
    }
   ],
   "source": [
    "df.isnull().sum().GeneSymbol_1"
   ]
  },
  {
   "cell_type": "code",
   "execution_count": 16,
   "metadata": {
    "collapsed": false,
    "deletable": true,
    "editable": true
   },
   "outputs": [
    {
     "name": "stdout",
     "output_type": "stream",
     "text": [
      "There are 159 (1.1%) missing EntrezGene ID via Gene Symbol ID mapping\n"
     ]
    }
   ],
   "source": [
    "# Get Gene Symbols with which EntrezGene are NaN\n",
    "df_geneSymb_entrezNan_1 = df[df.EntrezGene_1.isnull()].GeneSymbol_1\n",
    "df_geneSymb_entrezNan_2 = df[df.EntrezGene_2.isnull()].GeneSymbol_2\n",
    "\n",
    "# remove duplicates\n",
    "df_geneSymb_entrezNan_1 = df_geneSymb_entrezNan_1.drop_duplicates()\n",
    "df_geneSymb_entrezNan_2 = df_geneSymb_entrezNan_2.drop_duplicates()\n",
    "\n",
    "df_geneSymb_entrezNan = df_geneSymb_entrezNan_1.append(df_geneSymb_entrezNan_2).drop_duplicates()\n",
    "\n",
    "print(\"There are {} ({}%) missing EntrezGene ID via Gene Symbol ID mapping\"\n",
    "     .format(len(df_geneSymb_entrezNan),\n",
    "             round((len(df_geneSymb_entrezNan)/len(apid_geneSymb))*100, 1)))"
   ]
  },
  {
   "cell_type": "markdown",
   "metadata": {
    "deletable": true,
    "editable": true
   },
   "source": [
    "### UniProtKB-AC: from UniProt ID to EntrezGene ID\n",
    "#### For Gene Symbols not previously found in APID"
   ]
  },
  {
   "cell_type": "code",
   "execution_count": 17,
   "metadata": {
    "collapsed": false,
    "deletable": true,
    "editable": true
   },
   "outputs": [
    {
     "name": "stdout",
     "output_type": "stream",
     "text": [
      "all UniProtKB ID: 161566\n",
      "14657 interacting proteins in ADIP (9.1%)\n"
     ]
    }
   ],
   "source": [
    "# UniProtKB\n",
    "unip_entrez = df_unip.UniProt_AC.drop_duplicates()\n",
    "print('all UniProtKB ID:', len(unip_entrez))\n",
    "\n",
    "# ADIP\n",
    "apid_unip = df_apid_HH.UniProt_1.append(df_apid_HH.UniProt_2)\n",
    "apid_unip = apid_unip.drop_duplicates()\n",
    "\n",
    "overlap_uniprot_adip = (len(apid_unip)/len(unip_entrez))*100\n",
    "print(\"{} interacting proteins in ADIP ({}%)\"\n",
    "      .format(len(apid_unip), round(overlap_uniprot_adip, 1)))"
   ]
  },
  {
   "cell_type": "code",
   "execution_count": 23,
   "metadata": {
    "collapsed": true,
    "deletable": true,
    "editable": true
   },
   "outputs": [],
   "source": [
    "# data with NaN in GeneSymbol_1 or 2\n",
    "df_apid_geneSymb_nan1 = df[df.GeneSymbol_1.isnull()]\n",
    "df_apid_geneSymb_nan2 = df[df.GeneSymbol_2.isnull()]\n",
    "\n",
    "# merge on APID's UniProt_1 and 2 SEPARATELY to get corresponding EntrezGene ID\n",
    "# keeping the index from the 1st frame\n",
    "joined_1 = df_apid_geneSymb_nan1.reset_index().merge(\n",
    "    df_unip, how='left', left_on='UniProt_1', right_on='UniProt_AC').set_index('index')\n",
    "joined_2 = df_apid_geneSymb_nan2.reset_index().merge(\n",
    "    df_unip, how='left', left_on='UniProt_2', right_on='UniProt_AC').set_index('index')\n",
    "\n",
    "# replace new EntrezGene values found in UniProtKB\n",
    "df.EntrezGene_1[joined_1.index] = joined_1.EntrezGene\n",
    "df.EntrezGene_2[joined_2.index] = joined_2.EntrezGene"
   ]
  },
  {
   "cell_type": "code",
   "execution_count": 24,
   "metadata": {
    "collapsed": false,
    "deletable": true,
    "editable": true
   },
   "outputs": [
    {
     "data": {
      "text/html": [
       "<div>\n",
       "<style scoped>\n",
       "    .dataframe tbody tr th:only-of-type {\n",
       "        vertical-align: middle;\n",
       "    }\n",
       "\n",
       "    .dataframe tbody tr th {\n",
       "        vertical-align: top;\n",
       "    }\n",
       "\n",
       "    .dataframe thead th {\n",
       "        text-align: right;\n",
       "    }\n",
       "</style>\n",
       "<table border=\"1\" class=\"dataframe\">\n",
       "  <thead>\n",
       "    <tr style=\"text-align: right;\">\n",
       "      <th></th>\n",
       "      <th>EntrezGene_1</th>\n",
       "      <th>GeneSymbol_1</th>\n",
       "      <th>UniProt_1</th>\n",
       "      <th>EntrezGene_2</th>\n",
       "      <th>GeneSymbol_2</th>\n",
       "      <th>UniProt_2</th>\n",
       "    </tr>\n",
       "    <tr>\n",
       "      <th>index</th>\n",
       "      <th></th>\n",
       "      <th></th>\n",
       "      <th></th>\n",
       "      <th></th>\n",
       "      <th></th>\n",
       "      <th></th>\n",
       "    </tr>\n",
       "  </thead>\n",
       "  <tbody>\n",
       "    <tr>\n",
       "      <th>598</th>\n",
       "      <td>NaN</td>\n",
       "      <td>NaN</td>\n",
       "      <td>B2R8Y4</td>\n",
       "      <td>NaN</td>\n",
       "      <td>NaN</td>\n",
       "      <td>G2XKQ0</td>\n",
       "    </tr>\n",
       "    <tr>\n",
       "      <th>68812</th>\n",
       "      <td>NaN</td>\n",
       "      <td>NaN</td>\n",
       "      <td>Q59GP6</td>\n",
       "      <td>NaN</td>\n",
       "      <td>NaN</td>\n",
       "      <td>G2XKQ0</td>\n",
       "    </tr>\n",
       "  </tbody>\n",
       "</table>\n",
       "</div>"
      ],
      "text/plain": [
       "      EntrezGene_1 GeneSymbol_1 UniProt_1 EntrezGene_2 GeneSymbol_2 UniProt_2\n",
       "index                                                                        \n",
       "598            NaN          NaN    B2R8Y4          NaN          NaN    G2XKQ0\n",
       "68812          NaN          NaN    Q59GP6          NaN          NaN    G2XKQ0"
      ]
     },
     "execution_count": 24,
     "metadata": {},
     "output_type": "execute_result"
    }
   ],
   "source": [
    "# rows with both GeneSymbol_1&2 are NaN\n",
    "df.loc[joined_1.index.intersection(joined_2.index)]"
   ]
  },
  {
   "cell_type": "code",
   "execution_count": 25,
   "metadata": {
    "collapsed": false,
    "deletable": true,
    "editable": true
   },
   "outputs": [
    {
     "name": "stdout",
     "output_type": "stream",
     "text": [
      "NaN Entrez Gene before mapping with UniProtKB: 261\n",
      "NaN Entrez Gene after mapping with UniProtKB: 175\n",
      "newly found: 86 (30.0%)\n"
     ]
    }
   ],
   "source": [
    "nan_before = df.isnull().sum().GeneSymbol_1 + df.isnull().sum().GeneSymbol_2\n",
    "nan_after = joined_1.EntrezGene.isnull().sum() + joined_2.EntrezGene.isnull().sum() \n",
    "print(\"NaN Entrez Gene before mapping with UniProtKB:\", nan_before)\n",
    "print(\"NaN Entrez Gene after mapping with UniProtKB:\", nan_after)\n",
    "print(\"newly found: {} ({}%)\"\n",
    "      .format(nan_before-nan_after, 100-round(nan_after/nan_before, 1)*100))"
   ]
  },
  {
   "cell_type": "code",
   "execution_count": 46,
   "metadata": {
    "collapsed": false,
    "deletable": true,
    "editable": true
   },
   "outputs": [
    {
     "name": "stdout",
     "output_type": "stream",
     "text": [
      "removed PPI number: 1067 (0.9%)\n",
      "unique UniProt: 14426\n",
      "unique Entrez Gene: 14080\n",
      "unique Gene Symbol: 14076\n",
      "\n",
      "all interactions (PPI): 114914\n"
     ]
    }
   ],
   "source": [
    "df_entrez = df[df['EntrezGene_1'].notnull()]\n",
    "df_entrez = df_entrez[df_entrez['EntrezGene_2'].notnull()]\n",
    "df_entrez.EntrezGene_1 = df_entrez.EntrezGene_1.astype(int)\n",
    "df_entrez.EntrezGene_2 = df_entrez.EntrezGene_2.astype(int)\n",
    "\n",
    "print(\"removed PPI number: {} ({}%)\".format(df.shape[0]-df_entrez.shape[0],\n",
    "                                          round(100-df_entrez.shape[0]/df.shape[0]*100,1)))\n",
    "\n",
    "# unique number\n",
    "df_entrez_unique_unip = df_entrez.UniProt_1.append(df_entrez.UniProt_2)\n",
    "df_entrez_unique_unip = df_entrez_unique_unip.drop_duplicates()\n",
    "\n",
    "df_entrez_unique_entrez = df_entrez.EntrezGene_1.append(df_entrez.EntrezGene_2)\n",
    "df_entrez_unique_entrez = df_entrez_unique_entrez.drop_duplicates()\n",
    "\n",
    "df_entrez_unique_geneSymb = df_entrez.GeneSymbol_1.append(df_entrez.GeneSymbol_2)\n",
    "df_entrez_unique_geneSymb = df_entrez_unique_geneSymb.drop_duplicates()\n",
    "\n",
    "print(\"unique UniProt:\", len(df_entrez_unique_unip))\n",
    "print(\"unique Entrez Gene:\", len(df_entrez_unique_entrez))\n",
    "print(\"unique Gene Symbol:\", len(df_entrez_unique_geneSymb))\n",
    "print(\"\\nall interactions (PPI):\", df_entrez.shape[0])"
   ]
  },
  {
   "cell_type": "code",
   "execution_count": 29,
   "metadata": {
    "collapsed": true,
    "deletable": true,
    "editable": true
   },
   "outputs": [],
   "source": [
    "# save\n",
    "filename = (data_folder + 'PPI_APID_{}.csv'.\n",
    "            format(datetime.datetime.now().strftime(\"%Y_%m_%d\")))\n",
    "df_entrez.to_csv(filename, sep='\\t', index=False)"
   ]
  },
  {
   "cell_type": "markdown",
   "metadata": {
    "deletable": true,
    "editable": true
   },
   "source": [
    "# PPI network adjacency matrix\n",
    "around 30-40 secondes to generate a new adjacency matrix"
   ]
  },
  {
   "cell_type": "code",
   "execution_count": 30,
   "metadata": {
    "collapsed": true,
    "deletable": true,
    "editable": true
   },
   "outputs": [],
   "source": [
    "import glob\n",
    "from scipy.io import loadmat, savemat"
   ]
  },
  {
   "cell_type": "code",
   "execution_count": 31,
   "metadata": {
    "collapsed": false,
    "deletable": true,
    "editable": true
   },
   "outputs": [
    {
     "name": "stdout",
     "output_type": "stream",
     "text": [
      " ==== load_PPI_APID\n",
      "***** PPI_APID file already exists *****\n"
     ]
    }
   ],
   "source": [
    "gene_id_ppi, network = load_data.load_PPI_network(data_folder, ppi_data=\"APID\")"
   ]
  },
  {
   "cell_type": "code",
   "execution_count": 43,
   "metadata": {
    "collapsed": false,
    "deletable": true,
    "editable": true
   },
   "outputs": [
    {
     "data": {
      "text/plain": [
       "<14080x14080 sparse matrix of type '<class 'numpy.float32'>'\n",
       "\twith 227160 stored elements in Compressed Sparse Column format>"
      ]
     },
     "execution_count": 43,
     "metadata": {},
     "output_type": "execute_result"
    }
   ],
   "source": [
    "network"
   ]
  },
  {
   "cell_type": "code",
   "execution_count": null,
   "metadata": {
    "collapsed": true,
    "deletable": true,
    "editable": true
   },
   "outputs": [],
   "source": []
  }
 ],
 "metadata": {
  "kernelspec": {
   "display_name": "Python (stratipy3)",
   "language": "python",
   "name": "stratipy3"
  },
  "language_info": {
   "codemirror_mode": {
    "name": "ipython",
    "version": 3
   },
   "file_extension": ".py",
   "mimetype": "text/x-python",
   "name": "python",
   "nbconvert_exporter": "python",
   "pygments_lexer": "ipython3",
   "version": "3.6.5"
  }
 },
 "nbformat": 4,
 "nbformat_minor": 2
}
